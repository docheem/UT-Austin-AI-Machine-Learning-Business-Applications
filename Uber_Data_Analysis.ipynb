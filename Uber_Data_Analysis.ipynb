{
  "nbformat": 4,
  "nbformat_minor": 0,
  "metadata": {
    "colab": {
      "name": "Uber_Data_Analysis.ipynb",
      "provenance": [],
      "collapsed_sections": [
        "8jSvBLWi73vR"
      ]
    },
    "kernelspec": {
      "display_name": "Python 3",
      "language": "python",
      "name": "python3"
    },
    "language_info": {
      "codemirror_mode": {
        "name": "ipython",
        "version": 3
      },
      "file_extension": ".py",
      "mimetype": "text/x-python",
      "name": "python",
      "nbconvert_exporter": "python",
      "pygments_lexer": "ipython3",
      "version": "3.8.3"
    }
  },
  "cells": [
    {
      "cell_type": "markdown",
      "metadata": {
        "id": "DBcX05TS73uH"
      },
      "source": [
        "## Case study  - Uber Data Analysis\n",
        "\n",
        "You have the uber drive data for a driver which captures the differnet aspects of driving behavior. You are a part of the project where you need to grill this data and report the important findings from the grilling and drilling exercise. You also need to provide some useful insights about the trip behaviour of a Uber driver.\n",
        "Let us try to dive into the data with pandas and numpy by our side!\n",
        "\n",
        "#### Dataset - \n",
        "There are two datasets to be used here. The dataset contains-\n",
        "\n",
        "**Uberdrive.csv**\n",
        "- Trip_Id - Id for the trip\n",
        "- Start Date - the date and time of the start of the trip\n",
        "- End Date - the date and time of the end of the trip\n",
        "- Start Location - staring location of the trip \n",
        "- End Location  - location where the trip ended\n",
        "- Purpose of drive - Purpose of the trip (Business, Personal, Meals, Errands, Meetings, Customer Support etc.)\n",
        "\n",
        "\n",
        "**Uberdrive_Miles.csv**\n",
        "- Trip_Id - Id for the trip\n",
        "- Miles Driven  - Total miles driven between the start and the end of the trip\n",
        "\n",
        "#### Objective-\n",
        "\n",
        "The aim is to create a driver profile based on the below aspects on driving behavior.\n",
        "- Name and number of all the unique start and stop points\n",
        "- Popular start and stop points\n",
        "- Rides with same start and stop points\n",
        "- Starting point from which most miles have been driven\n",
        "- Start- stop pairs that are most travelled in terms of distance\n",
        "- busiest month in terms of number of drives and miles driven\n",
        "- busiest day of the week\n",
        "- peak hours\n",
        "- most frequent trip category\n",
        "- most frequent trip purpose\n",
        "- miles driven per category and purpose\n",
        "- percent composition of business miles vs personal miles\n",
        "- time spent per category and purpose\n",
        "\n",
        "----------------------\n",
        " #### Concepts To cover \n",
        "----------------------\n",
        "- 1. <a href = #link1>Overview of the data at hand</a>\n",
        "- 2. <a href = #link3>Filtering Data</a> \n",
        "- 3. <a href = #link2>Data profiling and the functions offered by pandas for understanding the data</a>\n",
        "- 4. <a href = #link4>DateTime operations</a> \n",
        "\n",
        "\n"
      ]
    },
    {
      "cell_type": "code",
      "metadata": {
        "id": "SY3vuCtI73uN"
      },
      "source": [
        "# Import the libraries \n",
        "import numpy as np\n",
        "import pandas as pd\n",
        "from datetime import datetime"
      ],
      "execution_count": 1,
      "outputs": []
    },
    {
      "cell_type": "markdown",
      "metadata": {
        "id": "UcdacxewjqDd"
      },
      "source": [
        "### <a id = \"link1\"></a>Overview of the data"
      ]
    },
    {
      "cell_type": "code",
      "metadata": {
        "colab": {
          "resources": {
            "http://localhost:8080/nbextensions/google.colab/files.js": {
              "data": "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",
              "ok": true,
              "headers": [
                [
                  "content-type",
                  "application/javascript"
                ]
              ],
              "status": 200,
              "status_text": ""
            }
          },
          "base_uri": "https://localhost:8080/",
          "height": 72
        },
        "id": "T_fAYTb-026f",
        "outputId": "70f67f10-a3c5-4002-e497-6f3c225ef202"
      },
      "source": [
        "from google.colab import files\n",
        "uploaded = files.upload()"
      ],
      "execution_count": 3,
      "outputs": [
        {
          "output_type": "display_data",
          "data": {
            "text/html": [
              "\n",
              "     <input type=\"file\" id=\"files-7b1cfb1c-8df1-401f-a245-d3e2f87b264b\" name=\"files[]\" multiple disabled\n",
              "        style=\"border:none\" />\n",
              "     <output id=\"result-7b1cfb1c-8df1-401f-a245-d3e2f87b264b\">\n",
              "      Upload widget is only available when the cell has been executed in the\n",
              "      current browser session. Please rerun this cell to enable.\n",
              "      </output>\n",
              "      <script src=\"/nbextensions/google.colab/files.js\"></script> "
            ],
            "text/plain": [
              "<IPython.core.display.HTML object>"
            ]
          },
          "metadata": {}
        },
        {
          "output_type": "stream",
          "name": "stdout",
          "text": [
            "Saving uberdrive.csv to uberdrive.csv\n"
          ]
        }
      ]
    },
    {
      "cell_type": "code",
      "metadata": {
        "colab": {
          "resources": {
            "http://localhost:8080/nbextensions/google.colab/files.js": {
              "data": "Ly8gQ29weXJpZ2h0IDIwMTcgR29vZ2xlIExMQwovLwovLyBMaWNlbnNlZCB1bmRlciB0aGUgQXBhY2hlIExpY2Vuc2UsIFZlcnNpb24gMi4wICh0aGUgIkxpY2Vuc2UiKTsKLy8geW91IG1heSBub3QgdXNlIHRoaXMgZmlsZSBleGNlcHQgaW4gY29tcGxpYW5jZSB3aXRoIHRoZSBMaWNlbnNlLgovLyBZb3UgbWF5IG9idGFpbiBhIGNvcHkgb2YgdGhlIExpY2Vuc2UgYXQKLy8KLy8gICAgICBodHRwOi8vd3d3LmFwYWNoZS5vcmcvbGljZW5zZXMvTElDRU5TRS0yLjAKLy8KLy8gVW5sZXNzIHJlcXVpcmVkIGJ5IGFwcGxpY2FibGUgbGF3IG9yIGFncmVlZCB0byBpbiB3cml0aW5nLCBzb2Z0d2FyZQovLyBkaXN0cmlidXRlZCB1bmRlciB0aGUgTGljZW5zZSBpcyBkaXN0cmlidXRlZCBvbiBhbiAiQVMgSVMiIEJBU0lTLAovLyBXSVRIT1VUIFdBUlJBTlRJRVMgT1IgQ09ORElUSU9OUyBPRiBBTlkgS0lORCwgZWl0aGVyIGV4cHJlc3Mgb3IgaW1wbGllZC4KLy8gU2VlIHRoZSBMaWNlbnNlIGZvciB0aGUgc3BlY2lmaWMgbGFuZ3VhZ2UgZ292ZXJuaW5nIHBlcm1pc3Npb25zIGFuZAovLyBsaW1pdGF0aW9ucyB1bmRlciB0aGUgTGljZW5zZS4KCi8qKgogKiBAZmlsZW92ZXJ2aWV3IEhlbHBlcnMgZm9yIGdvb2dsZS5jb2xhYiBQeXRob24gbW9kdWxlLgogKi8KKGZ1bmN0aW9uKHNjb3BlKSB7CmZ1bmN0aW9uIHNwYW4odGV4dCwgc3R5bGVBdHRyaWJ1dGVzID0ge30pIHsKICBjb25zdCBlbGVtZW50ID0gZG9jdW1lbnQuY3JlYXRlRWxlbWVudCgnc3BhbicpOwogIGVsZW1lbnQudGV4dENvbnRlbnQgPSB0ZXh0OwogIGZvciAoY29uc3Qga2V5IG9mIE9iamVjdC5rZXlzKHN0eWxlQXR0cmlidXRlcykpIHsKICAgIGVsZW1lbnQuc3R5bGVba2V5XSA9IHN0eWxlQXR0cmlidXRlc1trZXldOwogIH0KICByZXR1cm4gZWxlbWVudDsKfQoKLy8gTWF4IG51bWJlciBvZiBieXRlcyB3aGljaCB3aWxsIGJlIHVwbG9hZGVkIGF0IGEgdGltZS4KY29uc3QgTUFYX1BBWUxPQURfU0laRSA9IDEwMCAqIDEwMjQ7CgpmdW5jdGlvbiBfdXBsb2FkRmlsZXMoaW5wdXRJZCwgb3V0cHV0SWQpIHsKICBjb25zdCBzdGVwcyA9IHVwbG9hZEZpbGVzU3RlcChpbnB1dElkLCBvdXRwdXRJZCk7CiAgY29uc3Qgb3V0cHV0RWxlbWVudCA9IGRvY3VtZW50LmdldEVsZW1lbnRCeUlkKG91dHB1dElkKTsKICAvLyBDYWNoZSBzdGVwcyBvbiB0aGUgb3V0cHV0RWxlbWVudCB0byBtYWtlIGl0IGF2YWlsYWJsZSBmb3IgdGhlIG5leHQgY2FsbAogIC8vIHRvIHVwbG9hZEZpbGVzQ29udGludWUgZnJvbSBQeXRob24uCiAgb3V0cHV0RWxlbWVudC5zdGVwcyA9IHN0ZXBzOwoKICByZXR1cm4gX3VwbG9hZEZpbGVzQ29udGludWUob3V0cHV0SWQpOwp9CgovLyBUaGlzIGlzIHJvdWdobHkgYW4gYXN5bmMgZ2VuZXJhdG9yIChub3Qgc3VwcG9ydGVkIGluIHRoZSBicm93c2VyIHlldCksCi8vIHdoZXJlIHRoZXJlIGFyZSBtdWx0aXBsZSBhc3luY2hyb25vdXMgc3RlcHMgYW5kIHRoZSBQeXRob24gc2lkZSBpcyBnb2luZwovLyB0byBwb2xsIGZvciBjb21wbGV0aW9uIG9mIGVhY2ggc3RlcC4KLy8gVGhpcyB1c2VzIGEgUHJvbWlzZSB0byBibG9jayB0aGUgcHl0aG9uIHNpZGUgb24gY29tcGxldGlvbiBvZiBlYWNoIHN0ZXAsCi8vIHRoZW4gcGFzc2VzIHRoZSByZXN1bHQgb2YgdGhlIHByZXZpb3VzIHN0ZXAgYXMgdGhlIGlucHV0IHRvIHRoZSBuZXh0IHN0ZXAuCmZ1bmN0aW9uIF91cGxvYWRGaWxlc0NvbnRpbnVlKG91dHB1dElkKSB7CiAgY29uc3Qgb3V0cHV0RWxlbWVudCA9IGRvY3VtZW50LmdldEVsZW1lbnRCeUlkKG91dHB1dElkKTsKICBjb25zdCBzdGVwcyA9IG91dHB1dEVsZW1lbnQuc3RlcHM7CgogIGNvbnN0IG5leHQgPSBzdGVwcy5uZXh0KG91dHB1dEVsZW1lbnQubGFzdFByb21pc2VWYWx1ZSk7CiAgcmV0dXJuIFByb21pc2UucmVzb2x2ZShuZXh0LnZhbHVlLnByb21pc2UpLnRoZW4oKHZhbHVlKSA9PiB7CiAgICAvLyBDYWNoZSB0aGUgbGFzdCBwcm9taXNlIHZhbHVlIHRvIG1ha2UgaXQgYXZhaWxhYmxlIHRvIHRoZSBuZXh0CiAgICAvLyBzdGVwIG9mIHRoZSBnZW5lcmF0b3IuCiAgICBvdXRwdXRFbGVtZW50Lmxhc3RQcm9taXNlVmFsdWUgPSB2YWx1ZTsKICAgIHJldHVybiBuZXh0LnZhbHVlLnJlc3BvbnNlOwogIH0pOwp9CgovKioKICogR2VuZXJhdG9yIGZ1bmN0aW9uIHdoaWNoIGlzIGNhbGxlZCBiZXR3ZWVuIGVhY2ggYXN5bmMgc3RlcCBvZiB0aGUgdXBsb2FkCiAqIHByb2Nlc3MuCiAqIEBwYXJhbSB7c3RyaW5nfSBpbnB1dElkIEVsZW1lbnQgSUQgb2YgdGhlIGlucHV0IGZpbGUgcGlja2VyIGVsZW1lbnQuCiAqIEBwYXJhbSB7c3RyaW5nfSBvdXRwdXRJZCBFbGVtZW50IElEIG9mIHRoZSBvdXRwdXQgZGlzcGxheS4KICogQHJldHVybiB7IUl0ZXJhYmxlPCFPYmplY3Q+fSBJdGVyYWJsZSBvZiBuZXh0IHN0ZXBzLgogKi8KZnVuY3Rpb24qIHVwbG9hZEZpbGVzU3RlcChpbnB1dElkLCBvdXRwdXRJZCkgewogIGNvbnN0IGlucHV0RWxlbWVudCA9IGRvY3VtZW50LmdldEVsZW1lbnRCeUlkKGlucHV0SWQpOwogIGlucHV0RWxlbWVudC5kaXNhYmxlZCA9IGZhbHNlOwoKICBjb25zdCBvdXRwdXRFbGVtZW50ID0gZG9jdW1lbnQuZ2V0RWxlbWVudEJ5SWQob3V0cHV0SWQpOwogIG91dHB1dEVsZW1lbnQuaW5uZXJIVE1MID0gJyc7CgogIGNvbnN0IHBpY2tlZFByb21pc2UgPSBuZXcgUHJvbWlzZSgocmVzb2x2ZSkgPT4gewogICAgaW5wdXRFbGVtZW50LmFkZEV2ZW50TGlzdGVuZXIoJ2NoYW5nZScsIChlKSA9PiB7CiAgICAgIHJlc29sdmUoZS50YXJnZXQuZmlsZXMpOwogICAgfSk7CiAgfSk7CgogIGNvbnN0IGNhbmNlbCA9IGRvY3VtZW50LmNyZWF0ZUVsZW1lbnQoJ2J1dHRvbicpOwogIGlucHV0RWxlbWVudC5wYXJlbnRFbGVtZW50LmFwcGVuZENoaWxkKGNhbmNlbCk7CiAgY2FuY2VsLnRleHRDb250ZW50ID0gJ0NhbmNlbCB1cGxvYWQnOwogIGNvbnN0IGNhbmNlbFByb21pc2UgPSBuZXcgUHJvbWlzZSgocmVzb2x2ZSkgPT4gewogICAgY2FuY2VsLm9uY2xpY2sgPSAoKSA9PiB7CiAgICAgIHJlc29sdmUobnVsbCk7CiAgICB9OwogIH0pOwoKICAvLyBXYWl0IGZvciB0aGUgdXNlciB0byBwaWNrIHRoZSBmaWxlcy4KICBjb25zdCBmaWxlcyA9IHlpZWxkIHsKICAgIHByb21pc2U6IFByb21pc2UucmFjZShbcGlja2VkUHJvbWlzZSwgY2FuY2VsUHJvbWlzZV0pLAogICAgcmVzcG9uc2U6IHsKICAgICAgYWN0aW9uOiAnc3RhcnRpbmcnLAogICAgfQogIH07CgogIGNhbmNlbC5yZW1vdmUoKTsKCiAgLy8gRGlzYWJsZSB0aGUgaW5wdXQgZWxlbWVudCBzaW5jZSBmdXJ0aGVyIHBpY2tzIGFyZSBub3QgYWxsb3dlZC4KICBpbnB1dEVsZW1lbnQuZGlzYWJsZWQgPSB0cnVlOwoKICBpZiAoIWZpbGVzKSB7CiAgICByZXR1cm4gewogICAgICByZXNwb25zZTogewogICAgICAgIGFjdGlvbjogJ2NvbXBsZXRlJywKICAgICAgfQogICAgfTsKICB9CgogIGZvciAoY29uc3QgZmlsZSBvZiBmaWxlcykgewogICAgY29uc3QgbGkgPSBkb2N1bWVudC5jcmVhdGVFbGVtZW50KCdsaScpOwogICAgbGkuYXBwZW5kKHNwYW4oZmlsZS5uYW1lLCB7Zm9udFdlaWdodDogJ2JvbGQnfSkpOwogICAgbGkuYXBwZW5kKHNwYW4oCiAgICAgICAgYCgke2ZpbGUudHlwZSB8fCAnbi9hJ30pIC0gJHtmaWxlLnNpemV9IGJ5dGVzLCBgICsKICAgICAgICBgbGFzdCBtb2RpZmllZDogJHsKICAgICAgICAgICAgZmlsZS5sYXN0TW9kaWZpZWREYXRlID8gZmlsZS5sYXN0TW9kaWZpZWREYXRlLnRvTG9jYWxlRGF0ZVN0cmluZygpIDoKICAgICAgICAgICAgICAgICAgICAgICAgICAgICAgICAgICAgJ24vYSd9IC0gYCkpOwogICAgY29uc3QgcGVyY2VudCA9IHNwYW4oJzAlIGRvbmUnKTsKICAgIGxpLmFwcGVuZENoaWxkKHBlcmNlbnQpOwoKICAgIG91dHB1dEVsZW1lbnQuYXBwZW5kQ2hpbGQobGkpOwoKICAgIGNvbnN0IGZpbGVEYXRhUHJvbWlzZSA9IG5ldyBQcm9taXNlKChyZXNvbHZlKSA9PiB7CiAgICAgIGNvbnN0IHJlYWRlciA9IG5ldyBGaWxlUmVhZGVyKCk7CiAgICAgIHJlYWRlci5vbmxvYWQgPSAoZSkgPT4gewogICAgICAgIHJlc29sdmUoZS50YXJnZXQucmVzdWx0KTsKICAgICAgfTsKICAgICAgcmVhZGVyLnJlYWRBc0FycmF5QnVmZmVyKGZpbGUpOwogICAgfSk7CiAgICAvLyBXYWl0IGZvciB0aGUgZGF0YSB0byBiZSByZWFkeS4KICAgIGxldCBmaWxlRGF0YSA9IHlpZWxkIHsKICAgICAgcHJvbWlzZTogZmlsZURhdGFQcm9taXNlLAogICAgICByZXNwb25zZTogewogICAgICAgIGFjdGlvbjogJ2NvbnRpbnVlJywKICAgICAgfQogICAgfTsKCiAgICAvLyBVc2UgYSBjaHVua2VkIHNlbmRpbmcgdG8gYXZvaWQgbWVzc2FnZSBzaXplIGxpbWl0cy4gU2VlIGIvNjIxMTU2NjAuCiAgICBsZXQgcG9zaXRpb24gPSAwOwogICAgZG8gewogICAgICBjb25zdCBsZW5ndGggPSBNYXRoLm1pbihmaWxlRGF0YS5ieXRlTGVuZ3RoIC0gcG9zaXRpb24sIE1BWF9QQVlMT0FEX1NJWkUpOwogICAgICBjb25zdCBjaHVuayA9IG5ldyBVaW50OEFycmF5KGZpbGVEYXRhLCBwb3NpdGlvbiwgbGVuZ3RoKTsKICAgICAgcG9zaXRpb24gKz0gbGVuZ3RoOwoKICAgICAgY29uc3QgYmFzZTY0ID0gYnRvYShTdHJpbmcuZnJvbUNoYXJDb2RlLmFwcGx5KG51bGwsIGNodW5rKSk7CiAgICAgIHlpZWxkIHsKICAgICAgICByZXNwb25zZTogewogICAgICAgICAgYWN0aW9uOiAnYXBwZW5kJywKICAgICAgICAgIGZpbGU6IGZpbGUubmFtZSwKICAgICAgICAgIGRhdGE6IGJhc2U2NCwKICAgICAgICB9LAogICAgICB9OwoKICAgICAgbGV0IHBlcmNlbnREb25lID0gZmlsZURhdGEuYnl0ZUxlbmd0aCA9PT0gMCA/CiAgICAgICAgICAxMDAgOgogICAgICAgICAgTWF0aC5yb3VuZCgocG9zaXRpb24gLyBmaWxlRGF0YS5ieXRlTGVuZ3RoKSAqIDEwMCk7CiAgICAgIHBlcmNlbnQudGV4dENvbnRlbnQgPSBgJHtwZXJjZW50RG9uZX0lIGRvbmVgOwoKICAgIH0gd2hpbGUgKHBvc2l0aW9uIDwgZmlsZURhdGEuYnl0ZUxlbmd0aCk7CiAgfQoKICAvLyBBbGwgZG9uZS4KICB5aWVsZCB7CiAgICByZXNwb25zZTogewogICAgICBhY3Rpb246ICdjb21wbGV0ZScsCiAgICB9CiAgfTsKfQoKc2NvcGUuZ29vZ2xlID0gc2NvcGUuZ29vZ2xlIHx8IHt9OwpzY29wZS5nb29nbGUuY29sYWIgPSBzY29wZS5nb29nbGUuY29sYWIgfHwge307CnNjb3BlLmdvb2dsZS5jb2xhYi5fZmlsZXMgPSB7CiAgX3VwbG9hZEZpbGVzLAogIF91cGxvYWRGaWxlc0NvbnRpbnVlLAp9Owp9KShzZWxmKTsK",
              "ok": true,
              "headers": [
                [
                  "content-type",
                  "application/javascript"
                ]
              ],
              "status": 200,
              "status_text": ""
            }
          },
          "base_uri": "https://localhost:8080/",
          "height": 72
        },
        "id": "iImJ9RXmLxf7",
        "outputId": "113ad174-d403-4f79-98f9-98a19865d76a"
      },
      "source": [
        "from google.colab import files\n",
        "uploaded = files.upload()"
      ],
      "execution_count": 7,
      "outputs": [
        {
          "output_type": "display_data",
          "data": {
            "text/html": [
              "\n",
              "     <input type=\"file\" id=\"files-c29bf020-4dc6-4b3e-ac82-49bc574caa73\" name=\"files[]\" multiple disabled\n",
              "        style=\"border:none\" />\n",
              "     <output id=\"result-c29bf020-4dc6-4b3e-ac82-49bc574caa73\">\n",
              "      Upload widget is only available when the cell has been executed in the\n",
              "      current browser session. Please rerun this cell to enable.\n",
              "      </output>\n",
              "      <script src=\"/nbextensions/google.colab/files.js\"></script> "
            ],
            "text/plain": [
              "<IPython.core.display.HTML object>"
            ]
          },
          "metadata": {}
        },
        {
          "output_type": "stream",
          "name": "stdout",
          "text": [
            "Saving UberDrive_Miles.csv to UberDrive_Miles.csv\n"
          ]
        }
      ]
    },
    {
      "cell_type": "code",
      "metadata": {
        "id": "4FvdGEL573uQ"
      },
      "source": [
        "# Read the Data \n",
        "df = pd.read_csv('uberdrive.csv')"
      ],
      "execution_count": 5,
      "outputs": []
    },
    {
      "cell_type": "code",
      "metadata": {
        "colab": {
          "base_uri": "https://localhost:8080/",
          "height": 143
        },
        "id": "rfp142SP73uS",
        "scrolled": true,
        "outputId": "d1547f34-12cd-4698-9676-fa1147c07df0"
      },
      "source": [
        "# View first 3 rows of data \n",
        "df.head(3) "
      ],
      "execution_count": null,
      "outputs": [
        {
          "output_type": "execute_result",
          "data": {
            "text/html": [
              "<div>\n",
              "<style scoped>\n",
              "    .dataframe tbody tr th:only-of-type {\n",
              "        vertical-align: middle;\n",
              "    }\n",
              "\n",
              "    .dataframe tbody tr th {\n",
              "        vertical-align: top;\n",
              "    }\n",
              "\n",
              "    .dataframe thead th {\n",
              "        text-align: right;\n",
              "    }\n",
              "</style>\n",
              "<table border=\"1\" class=\"dataframe\">\n",
              "  <thead>\n",
              "    <tr style=\"text-align: right;\">\n",
              "      <th></th>\n",
              "      <th>Trip_Id</th>\n",
              "      <th>START_DATE*</th>\n",
              "      <th>END_DATE*</th>\n",
              "      <th>CATEGORY*</th>\n",
              "      <th>START*</th>\n",
              "      <th>STOP*</th>\n",
              "      <th>PURPOSE*</th>\n",
              "    </tr>\n",
              "  </thead>\n",
              "  <tbody>\n",
              "    <tr>\n",
              "      <th>0</th>\n",
              "      <td>1</td>\n",
              "      <td>01-01-2016 21:11</td>\n",
              "      <td>01-01-2016 21:17</td>\n",
              "      <td>Business</td>\n",
              "      <td>Fort Pierce</td>\n",
              "      <td>Fort Pierce</td>\n",
              "      <td>Meal/Entertain</td>\n",
              "    </tr>\n",
              "    <tr>\n",
              "      <th>1</th>\n",
              "      <td>2</td>\n",
              "      <td>01-02-2016 01:25</td>\n",
              "      <td>01-02-2016 01:37</td>\n",
              "      <td>Business</td>\n",
              "      <td>Fort Pierce</td>\n",
              "      <td>Fort Pierce</td>\n",
              "      <td>NaN</td>\n",
              "    </tr>\n",
              "    <tr>\n",
              "      <th>2</th>\n",
              "      <td>3</td>\n",
              "      <td>01-02-2016 20:25</td>\n",
              "      <td>01-02-2016 20:38</td>\n",
              "      <td>Business</td>\n",
              "      <td>Fort Pierce</td>\n",
              "      <td>Fort Pierce</td>\n",
              "      <td>Errand/Supplies</td>\n",
              "    </tr>\n",
              "  </tbody>\n",
              "</table>\n",
              "</div>"
            ],
            "text/plain": [
              "   Trip_Id       START_DATE*  ...        STOP*         PURPOSE*\n",
              "0        1  01-01-2016 21:11  ...  Fort Pierce   Meal/Entertain\n",
              "1        2  01-02-2016 01:25  ...  Fort Pierce              NaN\n",
              "2        3  01-02-2016 20:25  ...  Fort Pierce  Errand/Supplies\n",
              "\n",
              "[3 rows x 7 columns]"
            ]
          },
          "metadata": {},
          "execution_count": 6
        }
      ]
    },
    {
      "cell_type": "code",
      "metadata": {
        "id": "TYRpS9KWjqDf"
      },
      "source": [
        "df_miles = pd.read_csv('UberDrive_Miles.csv')"
      ],
      "execution_count": 8,
      "outputs": []
    },
    {
      "cell_type": "code",
      "metadata": {
        "id": "ItQdTrU4jqDf",
        "colab": {
          "base_uri": "https://localhost:8080/",
          "height": 143
        },
        "outputId": "932149ba-f76a-495a-daca-9e6898ae794a"
      },
      "source": [
        "df_miles.tail(3)"
      ],
      "execution_count": 9,
      "outputs": [
        {
          "output_type": "execute_result",
          "data": {
            "text/html": [
              "<div>\n",
              "<style scoped>\n",
              "    .dataframe tbody tr th:only-of-type {\n",
              "        vertical-align: middle;\n",
              "    }\n",
              "\n",
              "    .dataframe tbody tr th {\n",
              "        vertical-align: top;\n",
              "    }\n",
              "\n",
              "    .dataframe thead th {\n",
              "        text-align: right;\n",
              "    }\n",
              "</style>\n",
              "<table border=\"1\" class=\"dataframe\">\n",
              "  <thead>\n",
              "    <tr style=\"text-align: right;\">\n",
              "      <th></th>\n",
              "      <th>Trip_Id</th>\n",
              "      <th>MILES*</th>\n",
              "    </tr>\n",
              "  </thead>\n",
              "  <tbody>\n",
              "    <tr>\n",
              "      <th>1152</th>\n",
              "      <td>1153</td>\n",
              "      <td>16.2</td>\n",
              "    </tr>\n",
              "    <tr>\n",
              "      <th>1153</th>\n",
              "      <td>1154</td>\n",
              "      <td>6.4</td>\n",
              "    </tr>\n",
              "    <tr>\n",
              "      <th>1154</th>\n",
              "      <td>1155</td>\n",
              "      <td>48.2</td>\n",
              "    </tr>\n",
              "  </tbody>\n",
              "</table>\n",
              "</div>"
            ],
            "text/plain": [
              "      Trip_Id  MILES*\n",
              "1152     1153    16.2\n",
              "1153     1154     6.4\n",
              "1154     1155    48.2"
            ]
          },
          "metadata": {},
          "execution_count": 9
        }
      ]
    },
    {
      "cell_type": "code",
      "metadata": {
        "colab": {
          "base_uri": "https://localhost:8080/",
          "height": 51
        },
        "id": "oG5qPCEa73uY",
        "outputId": "7a36d667-5349-466a-cf7e-a52d42987aae"
      },
      "source": [
        "# understand shape and size of data from Uberdrive\n",
        "print(df.shape)\n",
        "print(df.size)"
      ],
      "execution_count": null,
      "outputs": [
        {
          "name": "stdout",
          "output_type": "stream",
          "text": [
            "(1155, 7)\n",
            "8085\n"
          ]
        }
      ]
    },
    {
      "cell_type": "code",
      "metadata": {
        "colab": {
          "base_uri": "https://localhost:8080/"
        },
        "id": "2wfuWwOPMJBG",
        "outputId": "3ee5f216-23ad-4edc-ed65-2c43952b60c7"
      },
      "source": [
        "x = df.shape[0]\n",
        "y = df.shape[1]\n",
        "print(x,y)"
      ],
      "execution_count": 13,
      "outputs": [
        {
          "output_type": "stream",
          "name": "stdout",
          "text": [
            "1155 7\n"
          ]
        }
      ]
    },
    {
      "cell_type": "code",
      "metadata": {
        "colab": {
          "base_uri": "https://localhost:8080/"
        },
        "id": "sazfO9JMMXMP",
        "outputId": "b0ef4744-0e25-4e44-8132-ef2ce40b8046"
      },
      "source": [
        "x*y"
      ],
      "execution_count": 14,
      "outputs": [
        {
          "output_type": "execute_result",
          "data": {
            "text/plain": [
              "8085"
            ]
          },
          "metadata": {},
          "execution_count": 14
        }
      ]
    },
    {
      "cell_type": "markdown",
      "metadata": {
        "id": "Y0RdYxuJujv2"
      },
      "source": [
        ""
      ]
    },
    {
      "cell_type": "code",
      "metadata": {
        "colab": {
          "base_uri": "https://localhost:8080/"
        },
        "id": "plSgQeP1MEv7",
        "outputId": "e59f7018-2f95-492e-89d1-05976eee74ea"
      },
      "source": [
        "df.size"
      ],
      "execution_count": 10,
      "outputs": [
        {
          "output_type": "execute_result",
          "data": {
            "text/plain": [
              "8085"
            ]
          },
          "metadata": {},
          "execution_count": 10
        }
      ]
    },
    {
      "cell_type": "code",
      "metadata": {
        "id": "wkRe1HmjjqDg",
        "outputId": "73c8069c-1387-4cc0-8c8d-cf2273ae5169"
      },
      "source": [
        "# check info about data (includes column names, the number of non-null values in it, and data-type for each column.)\n",
        "df.info()\n",
        "print()\n",
        "df_miles.info()"
      ],
      "execution_count": null,
      "outputs": [
        {
          "name": "stdout",
          "output_type": "stream",
          "text": [
            "<class 'pandas.core.frame.DataFrame'>\n",
            "RangeIndex: 1155 entries, 0 to 1154\n",
            "Data columns (total 7 columns):\n",
            "Trip_Id        1155 non-null int64\n",
            "START_DATE*    1155 non-null object\n",
            "END_DATE*      1155 non-null object\n",
            "CATEGORY*      1155 non-null object\n",
            "START*         1155 non-null object\n",
            "STOP*          1155 non-null object\n",
            "PURPOSE*       653 non-null object\n",
            "dtypes: int64(1), object(6)\n",
            "memory usage: 63.2+ KB\n",
            "\n",
            "<class 'pandas.core.frame.DataFrame'>\n",
            "RangeIndex: 1155 entries, 0 to 1154\n",
            "Data columns (total 2 columns):\n",
            "Trip_Id    1155 non-null int64\n",
            "MILES*     1155 non-null float64\n",
            "dtypes: float64(1), int64(1)\n",
            "memory usage: 18.1 KB\n"
          ]
        }
      ]
    },
    {
      "cell_type": "code",
      "metadata": {
        "colab": {
          "base_uri": "https://localhost:8080/"
        },
        "id": "Xlas5MRxNPpp",
        "outputId": "7f06af23-26a5-47f2-b344-345fe6f04cd4"
      },
      "source": [
        "set(df['PURPOSE*'])"
      ],
      "execution_count": 20,
      "outputs": [
        {
          "output_type": "execute_result",
          "data": {
            "text/plain": [
              "{'Airport/Travel',\n",
              " 'Between Offices',\n",
              " 'Charity ($)',\n",
              " 'Commute',\n",
              " 'Customer Visit',\n",
              " 'Errand/Supplies',\n",
              " 'Meal/Entertain',\n",
              " 'Meeting',\n",
              " 'Moving',\n",
              " 'Temporary Site',\n",
              " nan}"
            ]
          },
          "metadata": {},
          "execution_count": 20
        }
      ]
    },
    {
      "cell_type": "markdown",
      "metadata": {
        "id": "Omq73OvI73uf"
      },
      "source": [
        "1. Some of the columns have a 1155 records while there are others with 653, why is that? Lets explore\n",
        "\n",
        "2. We see some updates can be made in the column names, lets rename the columns\n"
      ]
    },
    {
      "cell_type": "markdown",
      "metadata": {
        "id": "PgNx3U4j73ux"
      },
      "source": [
        "### Renaming columns"
      ]
    },
    {
      "cell_type": "code",
      "metadata": {
        "colab": {
          "base_uri": "https://localhost:8080/"
        },
        "id": "Qmdeo7hbOdXK",
        "outputId": "551e4f39-b119-4b69-e987-03c6f8e066cd"
      },
      "source": [
        "df.columns"
      ],
      "execution_count": 21,
      "outputs": [
        {
          "output_type": "execute_result",
          "data": {
            "text/plain": [
              "Index(['Trip_Id', 'START_DATE*', 'END_DATE*', 'CATEGORY*', 'START*', 'STOP*',\n",
              "       'PURPOSE*'],\n",
              "      dtype='object')"
            ]
          },
          "metadata": {},
          "execution_count": 21
        }
      ]
    },
    {
      "cell_type": "code",
      "metadata": {
        "colab": {
          "base_uri": "https://localhost:8080/"
        },
        "id": "zE-2M-ps1Q0f",
        "outputId": "fd99f832-882b-49af-851a-d06d6b60ac0d"
      },
      "source": [
        "df.columns.str.replace('','')"
      ],
      "execution_count": 22,
      "outputs": [
        {
          "output_type": "execute_result",
          "data": {
            "text/plain": [
              "Index(['Trip_Id', 'START_DATE*', 'END_DATE*', 'CATEGORY*', 'START*', 'STOP*',\n",
              "       'PURPOSE*'],\n",
              "      dtype='object')"
            ]
          },
          "metadata": {},
          "execution_count": 22
        }
      ]
    },
    {
      "cell_type": "code",
      "metadata": {
        "id": "j0YgTTz-73ux"
      },
      "source": [
        "# Approach 1\n",
        "# Replace the * character from all the  columns\n",
        "df.columns = df.columns.str.replace(\"*\", \"\")"
      ],
      "execution_count": 32,
      "outputs": []
    },
    {
      "cell_type": "code",
      "metadata": {
        "colab": {
          "base_uri": "https://localhost:8080/"
        },
        "id": "J32vuyF6QldW",
        "outputId": "89f03eda-493f-4241-e619-aff0b5f7337b"
      },
      "source": [
        "# Approach 2\n",
        "#\n",
        "# You can also rename the specific column names \n",
        "df_miles.rename(columns = {'MILES*':'MILES'}, inplace=True)\n",
        "print(df.columns,\"\\n\", df_miles.columns)"
      ],
      "execution_count": 33,
      "outputs": [
        {
          "output_type": "stream",
          "name": "stdout",
          "text": [
            "Index(['Trip_Id', 'START_DATE', 'END_DATE', 'CATEGORY', 'START', 'STOP',\n",
            "       'PURPOSE'],\n",
            "      dtype='object') \n",
            " Index(['Trip_Id', 'MILES'], dtype='object')\n"
          ]
        }
      ]
    },
    {
      "cell_type": "markdown",
      "metadata": {
        "id": "okKeivRdjqDi"
      },
      "source": [
        "**The column names were updated.**"
      ]
    },
    {
      "cell_type": "markdown",
      "metadata": {
        "id": "Ebt8vpgH73u3"
      },
      "source": [
        "### <a id = \"link3\"></a>Filtering dataframes\n",
        "#### Using null values"
      ]
    },
    {
      "cell_type": "code",
      "metadata": {
        "colab": {
          "base_uri": "https://localhost:8080/",
          "height": 206
        },
        "id": "Yp9XzNlLPSyT",
        "outputId": "77e2b3a3-bb21-4f18-cff9-cd8e94692bc2"
      },
      "source": [
        "# shows the top 5 entries where PURPOSE is null\n",
        "\n",
        "df[df['PURPOSE'].isnull()].head()"
      ],
      "execution_count": 34,
      "outputs": [
        {
          "output_type": "execute_result",
          "data": {
            "text/html": [
              "<div>\n",
              "<style scoped>\n",
              "    .dataframe tbody tr th:only-of-type {\n",
              "        vertical-align: middle;\n",
              "    }\n",
              "\n",
              "    .dataframe tbody tr th {\n",
              "        vertical-align: top;\n",
              "    }\n",
              "\n",
              "    .dataframe thead th {\n",
              "        text-align: right;\n",
              "    }\n",
              "</style>\n",
              "<table border=\"1\" class=\"dataframe\">\n",
              "  <thead>\n",
              "    <tr style=\"text-align: right;\">\n",
              "      <th></th>\n",
              "      <th>Trip_Id</th>\n",
              "      <th>START_DATE</th>\n",
              "      <th>END_DATE</th>\n",
              "      <th>CATEGORY</th>\n",
              "      <th>START</th>\n",
              "      <th>STOP</th>\n",
              "      <th>PURPOSE</th>\n",
              "    </tr>\n",
              "  </thead>\n",
              "  <tbody>\n",
              "    <tr>\n",
              "      <th>1</th>\n",
              "      <td>2</td>\n",
              "      <td>01-02-2016 01:25</td>\n",
              "      <td>01-02-2016 01:37</td>\n",
              "      <td>Business</td>\n",
              "      <td>Fort Pierce</td>\n",
              "      <td>Fort Pierce</td>\n",
              "      <td>NaN</td>\n",
              "    </tr>\n",
              "    <tr>\n",
              "      <th>32</th>\n",
              "      <td>33</td>\n",
              "      <td>1/19/2016 9:09</td>\n",
              "      <td>1/19/2016 9:23</td>\n",
              "      <td>Business</td>\n",
              "      <td>Whitebridge</td>\n",
              "      <td>Lake Wellingborough</td>\n",
              "      <td>NaN</td>\n",
              "    </tr>\n",
              "    <tr>\n",
              "      <th>85</th>\n",
              "      <td>86</td>\n",
              "      <td>02-09-2016 10:54</td>\n",
              "      <td>02-09-2016 11:07</td>\n",
              "      <td>Personal</td>\n",
              "      <td>Whitebridge</td>\n",
              "      <td>Northwoods</td>\n",
              "      <td>NaN</td>\n",
              "    </tr>\n",
              "    <tr>\n",
              "      <th>86</th>\n",
              "      <td>87</td>\n",
              "      <td>02-09-2016 11:43</td>\n",
              "      <td>02-09-2016 11:50</td>\n",
              "      <td>Personal</td>\n",
              "      <td>Northwoods</td>\n",
              "      <td>Tanglewood</td>\n",
              "      <td>NaN</td>\n",
              "    </tr>\n",
              "    <tr>\n",
              "      <th>87</th>\n",
              "      <td>88</td>\n",
              "      <td>02-09-2016 13:36</td>\n",
              "      <td>02-09-2016 13:52</td>\n",
              "      <td>Personal</td>\n",
              "      <td>Tanglewood</td>\n",
              "      <td>Preston</td>\n",
              "      <td>NaN</td>\n",
              "    </tr>\n",
              "  </tbody>\n",
              "</table>\n",
              "</div>"
            ],
            "text/plain": [
              "    Trip_Id        START_DATE  ...                 STOP PURPOSE\n",
              "1         2  01-02-2016 01:25  ...          Fort Pierce     NaN\n",
              "32       33    1/19/2016 9:09  ...  Lake Wellingborough     NaN\n",
              "85       86  02-09-2016 10:54  ...           Northwoods     NaN\n",
              "86       87  02-09-2016 11:43  ...           Tanglewood     NaN\n",
              "87       88  02-09-2016 13:36  ...              Preston     NaN\n",
              "\n",
              "[5 rows x 7 columns]"
            ]
          },
          "metadata": {},
          "execution_count": 34
        }
      ]
    },
    {
      "cell_type": "markdown",
      "metadata": {
        "id": "0mGILHvP73u5"
      },
      "source": [
        "\n",
        "#### Filtering out records based on conditions"
      ]
    },
    {
      "cell_type": "code",
      "metadata": {
        "colab": {
          "base_uri": "https://localhost:8080/",
          "height": 206
        },
        "id": "x3eNeRib73u5",
        "outputId": "e217c630-fa5e-40e4-f2c2-69331b6a5b78"
      },
      "source": [
        "# Conditions within dataframe \n",
        "df_miles[df_miles['MILES'] > 30].head()"
      ],
      "execution_count": 36,
      "outputs": [
        {
          "output_type": "execute_result",
          "data": {
            "text/html": [
              "<div>\n",
              "<style scoped>\n",
              "    .dataframe tbody tr th:only-of-type {\n",
              "        vertical-align: middle;\n",
              "    }\n",
              "\n",
              "    .dataframe tbody tr th {\n",
              "        vertical-align: top;\n",
              "    }\n",
              "\n",
              "    .dataframe thead th {\n",
              "        text-align: right;\n",
              "    }\n",
              "</style>\n",
              "<table border=\"1\" class=\"dataframe\">\n",
              "  <thead>\n",
              "    <tr style=\"text-align: right;\">\n",
              "      <th></th>\n",
              "      <th>Trip_Id</th>\n",
              "      <th>MILES</th>\n",
              "    </tr>\n",
              "  </thead>\n",
              "  <tbody>\n",
              "    <tr>\n",
              "      <th>4</th>\n",
              "      <td>5</td>\n",
              "      <td>63.7</td>\n",
              "    </tr>\n",
              "    <tr>\n",
              "      <th>36</th>\n",
              "      <td>37</td>\n",
              "      <td>40.2</td>\n",
              "    </tr>\n",
              "    <tr>\n",
              "      <th>108</th>\n",
              "      <td>109</td>\n",
              "      <td>43.7</td>\n",
              "    </tr>\n",
              "    <tr>\n",
              "      <th>232</th>\n",
              "      <td>233</td>\n",
              "      <td>136.0</td>\n",
              "    </tr>\n",
              "    <tr>\n",
              "      <th>233</th>\n",
              "      <td>234</td>\n",
              "      <td>30.2</td>\n",
              "    </tr>\n",
              "  </tbody>\n",
              "</table>\n",
              "</div>"
            ],
            "text/plain": [
              "     Trip_Id  MILES\n",
              "4          5   63.7\n",
              "36        37   40.2\n",
              "108      109   43.7\n",
              "232      233  136.0\n",
              "233      234   30.2"
            ]
          },
          "metadata": {},
          "execution_count": 36
        }
      ]
    },
    {
      "cell_type": "markdown",
      "metadata": {
        "id": "8jSvBLWi73vR"
      },
      "source": [
        "## <a id = \"link2\"></a>In a bid to create the driver profile, lets explore the data parameter wise - \n",
        "\n",
        "- 1.Destination - (starting and stopping)\n",
        "\n",
        "- 2.Time - (hour of the day, day of week, month of year)\n",
        "\n",
        "- 3.Grouping two parameters to get more insights\n",
        "\n",
        "- 4.Category and Purpose"
      ]
    },
    {
      "cell_type": "markdown",
      "metadata": {
        "id": "UAamyoph73vR"
      },
      "source": [
        "## 1. Destination\n",
        "### Understanding  the start and stop points \n",
        "###### Through the feature, we will try to understand the below points of the driver profile. \n",
        "- Name and number of all the unique start and stop points\n",
        "- Popular start and stop points\n",
        "- Rides with same start and stop points\n",
        "- Starting point from which most miles have been driven\n",
        "- Start- stop pairs that are most travelled in terms of distance\n",
        "\n",
        "**Let us handle these one by one**"
      ]
    },
    {
      "cell_type": "markdown",
      "metadata": {
        "id": "vt3uGICkjqDk"
      },
      "source": [
        "**1. Name and Number of all unique start and stop points**"
      ]
    },
    {
      "cell_type": "code",
      "metadata": {
        "colab": {
          "base_uri": "https://localhost:8080/"
        },
        "id": "nmE7R0d473vS",
        "outputId": "a91290ea-1682-4b0d-f908-479becac1d4f"
      },
      "source": [
        "# Get the unique starting point, unique destination\n",
        "# names of unique start points\n",
        "print(df['START'].unique())"
      ],
      "execution_count": 37,
      "outputs": [
        {
          "output_type": "stream",
          "name": "stdout",
          "text": [
            "['Fort Pierce' 'West Palm Beach' 'Cary' 'Jamaica' 'New York' 'Elmhurst'\n",
            " 'Midtown' 'East Harlem' 'Flatiron District' 'Midtown East'\n",
            " 'Hudson Square' 'Lower Manhattan' \"Hell's Kitchen\" 'Downtown' 'Gulfton'\n",
            " 'Houston' 'Eagan Park' 'Morrisville' 'Durham' 'Farmington Woods'\n",
            " 'Whitebridge' 'Lake Wellingborough' 'Fayetteville Street' 'Raleigh'\n",
            " 'Hazelwood' 'Fairmont' 'Meredith Townes' 'Apex' 'Chapel Hill'\n",
            " 'Northwoods' 'Edgehill Farms' 'Tanglewood' 'Preston' 'Eastgate'\n",
            " 'East Elmhurst' 'Jackson Heights' 'Long Island City' 'Katunayaka'\n",
            " 'Unknown Location' 'Colombo' 'Nugegoda' 'Islamabad' 'R?walpindi'\n",
            " 'Noorpur Shahan' 'Heritage Pines' 'Westpark Place' 'Waverly Place'\n",
            " 'Wayne Ridge' 'Weston' 'East Austin' 'West University' 'South Congress'\n",
            " 'The Drag' 'Congress Ave District' 'Red River District' 'Georgian Acres'\n",
            " 'North Austin' 'Coxville' 'Convention Center District' 'Austin' 'Katy'\n",
            " 'Sharpstown' 'Sugar Land' 'Galveston' 'Port Bolivar' 'Washington Avenue'\n",
            " 'Briar Meadow' 'Latta' 'Jacksonville' 'Couples Glen' 'Kissimmee'\n",
            " 'Lake Reams' 'Orlando' 'Sand Lake Commons' 'Sky Lake' 'Daytona Beach'\n",
            " 'Ridgeland' 'Florence' 'Meredith' 'Holly Springs' 'Chessington'\n",
            " 'Burtrose' 'Parkway' 'Mcvan' 'Capitol One' 'University District'\n",
            " 'Seattle' 'Redmond' 'Bellevue' 'San Francisco' 'Palo Alto' 'Sunnyvale'\n",
            " 'Newark' 'Menlo Park' 'Old City' 'Savon Height' 'Kilarney Woods'\n",
            " 'Townes at Everett Crossing' 'Huntington Woods' 'Seaport'\n",
            " 'Medical Centre' 'Rose Hill' 'Soho' 'Tribeca' 'Financial District'\n",
            " 'Oakland' 'Emeryville' 'Berkeley' 'Kenner' 'CBD' 'Lower Garden District'\n",
            " 'Lakeview' 'Storyville' 'New Orleans' 'Metairie' 'Chalmette' 'Arabi'\n",
            " 'Pontchartrain Shores' 'Marigny' 'Covington' 'Mandeville'\n",
            " 'Jamestown Court' 'Summerwinds' 'Parkwood' 'Pontchartrain Beach'\n",
            " 'St Thomas' 'Banner Elk' 'Elk Park' 'Newland' 'Boone' 'Stonewater'\n",
            " 'Lexington Park at Amberly' 'Arlington Park at Amberly' 'Arlington'\n",
            " 'Kalorama Triangle' 'K Street' 'West End' 'Connecticut Avenue'\n",
            " 'Columbia Heights' 'Washington' 'Wake Forest' 'Lahore' 'Karachi'\n",
            " 'SOMISSPO' 'West Berkeley' 'North Berkeley Hills' 'San Jose' 'Eagle Rock'\n",
            " 'Winston Salem' 'Asheville' 'Topton' 'Hayesville' 'Bryson City' 'Almond'\n",
            " 'Mebane' 'Agnew' 'Cory' 'Renaissance' 'Santa Clara' 'NOMA' 'Sunnyside'\n",
            " 'Ingleside' 'Central' 'Tenderloin' 'College Avenue' 'South' 'Southside'\n",
            " 'South Berkeley' 'Mountain View' 'El Cerrito' 'Krendle Woods' 'Wake Co.'\n",
            " 'Fuquay-Varina' 'Rawalpindi' 'Kar?chi' 'Katunayake' 'Gampaha']\n"
          ]
        }
      ]
    },
    {
      "cell_type": "code",
      "metadata": {
        "colab": {
          "base_uri": "https://localhost:8080/"
        },
        "id": "SFUlm5TW73vW",
        "outputId": "fcb2f994-641b-4258-a470-e41c71d1c0de"
      },
      "source": [
        "print(df['START'].nunique())                           # or use can use the nunique function"
      ],
      "execution_count": 38,
      "outputs": [
        {
          "output_type": "stream",
          "name": "stdout",
          "text": [
            "177\n"
          ]
        }
      ]
    },
    {
      "cell_type": "code",
      "metadata": {
        "colab": {
          "base_uri": "https://localhost:8080/"
        },
        "id": "MNH8DaQ773vY",
        "outputId": "c5f986a2-0fca-426d-e01a-c71e4735495a"
      },
      "source": [
        "# Get the names of stopping destinations, unique destinations\n",
        "# Names of unique stopping points\n",
        "print(df['STOP'].unique())"
      ],
      "execution_count": 39,
      "outputs": [
        {
          "output_type": "stream",
          "name": "stdout",
          "text": [
            "['Fort Pierce' 'West Palm Beach' 'Palm Beach' 'Cary' 'Morrisville'\n",
            " 'New York' 'Queens' 'East Harlem' 'NoMad' 'Midtown' 'Midtown East'\n",
            " 'Hudson Square' 'Lower Manhattan' \"Hell's Kitchen\" 'Queens County'\n",
            " 'Gulfton' 'Downtown' 'Houston' 'Jamestown Court' 'Durham' 'Whitebridge'\n",
            " 'Lake Wellingborough' 'Raleigh' 'Umstead' 'Hazelwood' 'Westpark Place'\n",
            " 'Meredith Townes' 'Leesville Hollow' 'Apex' 'Chapel Hill'\n",
            " 'Williamsburg Manor' 'Macgregor Downs' 'Edgehill Farms' 'Northwoods'\n",
            " 'Tanglewood' 'Preston' 'Walnut Terrace' 'Jackson Heights' 'East Elmhurst'\n",
            " 'Midtown West' 'Long Island City' 'Jamaica' 'Unknown Location' 'Colombo'\n",
            " 'Nugegoda' 'Katunayaka' 'Islamabad' 'R?walpindi' 'Noorpur Shahan'\n",
            " 'Heritage Pines' 'Waverly Place' 'Wayne Ridge' 'Depot Historic District'\n",
            " 'Weston' 'West University' 'South Congress' 'Arts District'\n",
            " 'Congress Ave District' 'Red River District' 'The Drag'\n",
            " 'Convention Center District' 'North Austin' 'Coxville' 'Katy' 'Alief'\n",
            " 'Sharpstown' 'Sugar Land' 'Galveston' 'Port Bolivar' 'Washington Avenue'\n",
            " 'Briar Meadow' 'Greater Greenspoint' 'Latta' 'Jacksonville' 'Kissimmee'\n",
            " 'Isles of Buena Vista' 'Orlando' 'Lake Reams' 'Vista East' 'Sky Lake'\n",
            " 'Sand Lake Commons' 'Daytona Beach' 'Ridgeland' 'Florence' 'Cedar Hill'\n",
            " 'Holly Springs' 'Harden Place' 'Chessington' 'Burtrose' 'Parkway'\n",
            " 'Capitol One' 'University District' 'Redmond' 'Bellevue' 'Seattle'\n",
            " 'Mcvan' 'Palo Alto' 'Sunnyvale' 'Newark' 'Menlo Park' 'San Francisco'\n",
            " 'Parkway Museums' 'Hog Island' 'Savon Height' 'Kildaire Farms'\n",
            " 'Kilarney Woods' 'Gramercy-Flatiron' 'Tudor City' 'Soho' 'Tribeca'\n",
            " 'Financial District' 'Kips Bay' 'Emeryville' 'Berkeley' 'Oakland'\n",
            " 'Bay Farm Island' 'New Orleans' 'Lower Garden District' 'Lakeview'\n",
            " 'Storyville' 'Faubourg Marigny' 'Metairie' 'Kenner' 'Bywater' 'Chalmette'\n",
            " 'Arabi' 'Pontchartrain Shores' 'Marigny' 'Covington' 'Mandeville'\n",
            " 'Summerwinds' 'Parkwood' 'Pontchartrain Beach' 'CBD' 'St Thomas'\n",
            " 'Banner Elk' 'Elk Park' 'Newland' 'Boone' 'Stonewater'\n",
            " 'Lexington Park at Amberly' 'Arlington Park at Amberly' 'Washington'\n",
            " 'K Street' 'Kalorama Triangle' 'Northwest Rectangle' 'Columbia Heights'\n",
            " 'Arlington' 'Farmington Woods' 'Wake Forest' 'Lahore' 'Karachi'\n",
            " 'French Quarter' 'North Berkeley Hills' 'Southside' 'San Jose'\n",
            " 'Eagle Rock' 'Huntington Woods' 'Winston Salem' 'Asheville' 'Topton'\n",
            " 'Hayesville' 'Bryson City' 'Almond' 'Mebane' 'Santa Clara' 'Cory' 'Agnew'\n",
            " 'Renaissance' 'West Berkeley' 'Central' 'Sunnyside' 'Ingleside'\n",
            " 'Potrero Flats' 'SOMISSPO' 'Tenderloin' 'College Avenue' 'South'\n",
            " 'Southwest Berkeley' 'South Berkeley' 'Mountain View' 'El Cerrito'\n",
            " 'Wake Co.' 'Fuquay-Varina' 'Rawalpindi' 'Kar?chi' 'Gampaha' 'Ilukwatta']\n"
          ]
        }
      ]
    },
    {
      "cell_type": "code",
      "metadata": {
        "colab": {
          "base_uri": "https://localhost:8080/",
          "height": 34
        },
        "id": "3O2iTz9j73va",
        "scrolled": false,
        "outputId": "08f687f9-d25d-4f82-8393-3118a91c9474"
      },
      "source": [
        "print(len(df['STOP'].unique()))            # count of unique stopping points"
      ],
      "execution_count": null,
      "outputs": [
        {
          "name": "stdout",
          "output_type": "stream",
          "text": [
            "188\n"
          ]
        }
      ]
    },
    {
      "cell_type": "markdown",
      "metadata": {
        "id": "ki30jr-UjqDl"
      },
      "source": [
        "**2a. Identify popular start points - top 10**"
      ]
    },
    {
      "cell_type": "code",
      "metadata": {
        "colab": {
          "base_uri": "https://localhost:8080/"
        },
        "id": "IdfGWVrR73vj",
        "scrolled": true,
        "outputId": "e3f4ab04-4b3c-4153-a620-a9d0336f3ca5"
      },
      "source": [
        "df['START'].value_counts().head(10)"
      ],
      "execution_count": 40,
      "outputs": [
        {
          "output_type": "execute_result",
          "data": {
            "text/plain": [
              "Cary                201\n",
              "Unknown Location    148\n",
              "Morrisville          85\n",
              "Whitebridge          68\n",
              "Islamabad            57\n",
              "Durham               37\n",
              "Lahore               36\n",
              "Raleigh              28\n",
              "Kar?chi              27\n",
              "Westpark Place       17\n",
              "Name: START, dtype: int64"
            ]
          },
          "metadata": {},
          "execution_count": 40
        }
      ]
    },
    {
      "cell_type": "markdown",
      "metadata": {
        "id": "tmMxPKP0jqDl"
      },
      "source": [
        "**2b. Identify popular stop destinations - top 10**"
      ]
    },
    {
      "cell_type": "code",
      "metadata": {
        "colab": {
          "base_uri": "https://localhost:8080/",
          "height": 204
        },
        "id": "0_VAzZd573vl",
        "scrolled": true,
        "outputId": "44fe8603-afb2-448c-884d-661ff9e150e4"
      },
      "source": [
        "\n",
        "df['STOP'].value_counts().head(10)"
      ],
      "execution_count": null,
      "outputs": [
        {
          "data": {
            "text/plain": [
              "Cary                203\n",
              "Unknown Location    149\n",
              "Morrisville          84\n",
              "Whitebridge          65\n",
              "Islamabad            58\n",
              "Durham               36\n",
              "Lahore               36\n",
              "Raleigh              29\n",
              "Kar?chi              26\n",
              "Apex                 17\n",
              "Name: STOP, dtype: int64"
            ]
          },
          "execution_count": 115,
          "metadata": {
            "tags": []
          },
          "output_type": "execute_result"
        }
      ]
    },
    {
      "cell_type": "markdown",
      "metadata": {
        "id": "JVl4EJQCjqDm"
      },
      "source": [
        "**3.  Are there cases where the start and the stop location are the same  ?**"
      ]
    },
    {
      "cell_type": "code",
      "metadata": {
        "colab": {
          "base_uri": "https://localhost:8080/",
          "height": 143
        },
        "id": "Sl6Ij0LrU1OA",
        "outputId": "8dd31758-6719-4956-c264-b642570e0429"
      },
      "source": [
        "df[df['START'] == df['STOP']].head(3)"
      ],
      "execution_count": 42,
      "outputs": [
        {
          "output_type": "execute_result",
          "data": {
            "text/html": [
              "<div>\n",
              "<style scoped>\n",
              "    .dataframe tbody tr th:only-of-type {\n",
              "        vertical-align: middle;\n",
              "    }\n",
              "\n",
              "    .dataframe tbody tr th {\n",
              "        vertical-align: top;\n",
              "    }\n",
              "\n",
              "    .dataframe thead th {\n",
              "        text-align: right;\n",
              "    }\n",
              "</style>\n",
              "<table border=\"1\" class=\"dataframe\">\n",
              "  <thead>\n",
              "    <tr style=\"text-align: right;\">\n",
              "      <th></th>\n",
              "      <th>Trip_Id</th>\n",
              "      <th>START_DATE</th>\n",
              "      <th>END_DATE</th>\n",
              "      <th>CATEGORY</th>\n",
              "      <th>START</th>\n",
              "      <th>STOP</th>\n",
              "      <th>PURPOSE</th>\n",
              "    </tr>\n",
              "  </thead>\n",
              "  <tbody>\n",
              "    <tr>\n",
              "      <th>0</th>\n",
              "      <td>1</td>\n",
              "      <td>01-01-2016 21:11</td>\n",
              "      <td>01-01-2016 21:17</td>\n",
              "      <td>Business</td>\n",
              "      <td>Fort Pierce</td>\n",
              "      <td>Fort Pierce</td>\n",
              "      <td>Meal/Entertain</td>\n",
              "    </tr>\n",
              "    <tr>\n",
              "      <th>1</th>\n",
              "      <td>2</td>\n",
              "      <td>01-02-2016 01:25</td>\n",
              "      <td>01-02-2016 01:37</td>\n",
              "      <td>Business</td>\n",
              "      <td>Fort Pierce</td>\n",
              "      <td>Fort Pierce</td>\n",
              "      <td>NaN</td>\n",
              "    </tr>\n",
              "    <tr>\n",
              "      <th>2</th>\n",
              "      <td>3</td>\n",
              "      <td>01-02-2016 20:25</td>\n",
              "      <td>01-02-2016 20:38</td>\n",
              "      <td>Business</td>\n",
              "      <td>Fort Pierce</td>\n",
              "      <td>Fort Pierce</td>\n",
              "      <td>Errand/Supplies</td>\n",
              "    </tr>\n",
              "  </tbody>\n",
              "</table>\n",
              "</div>"
            ],
            "text/plain": [
              "   Trip_Id        START_DATE  ...         STOP          PURPOSE\n",
              "0        1  01-01-2016 21:11  ...  Fort Pierce   Meal/Entertain\n",
              "1        2  01-02-2016 01:25  ...  Fort Pierce              NaN\n",
              "2        3  01-02-2016 20:25  ...  Fort Pierce  Errand/Supplies\n",
              "\n",
              "[3 rows x 7 columns]"
            ]
          },
          "metadata": {},
          "execution_count": 42
        }
      ]
    },
    {
      "cell_type": "code",
      "metadata": {
        "colab": {
          "base_uri": "https://localhost:8080/",
          "height": 419
        },
        "id": "ax8JSeaj73vn",
        "scrolled": true,
        "outputId": "eee25698-a344-45da-fd11-7297c3b0219c"
      },
      "source": [
        "df[df['START'] == df['STOP']].head(5)"
      ],
      "execution_count": null,
      "outputs": [
        {
          "data": {
            "text/html": [
              "<div>\n",
              "<style scoped>\n",
              "    .dataframe tbody tr th:only-of-type {\n",
              "        vertical-align: middle;\n",
              "    }\n",
              "\n",
              "    .dataframe tbody tr th {\n",
              "        vertical-align: top;\n",
              "    }\n",
              "\n",
              "    .dataframe thead th {\n",
              "        text-align: right;\n",
              "    }\n",
              "</style>\n",
              "<table border=\"1\" class=\"dataframe\">\n",
              "  <thead>\n",
              "    <tr style=\"text-align: right;\">\n",
              "      <th></th>\n",
              "      <th>Trip_Id</th>\n",
              "      <th>START_DATE</th>\n",
              "      <th>END_DATE</th>\n",
              "      <th>CATEGORY</th>\n",
              "      <th>START</th>\n",
              "      <th>STOP</th>\n",
              "      <th>PURPOSE</th>\n",
              "    </tr>\n",
              "  </thead>\n",
              "  <tbody>\n",
              "    <tr>\n",
              "      <th>0</th>\n",
              "      <td>1</td>\n",
              "      <td>01-01-2016 21:11</td>\n",
              "      <td>01-01-2016 21:17</td>\n",
              "      <td>Business</td>\n",
              "      <td>Fort Pierce</td>\n",
              "      <td>Fort Pierce</td>\n",
              "      <td>Meal/Entertain</td>\n",
              "    </tr>\n",
              "    <tr>\n",
              "      <th>1</th>\n",
              "      <td>2</td>\n",
              "      <td>01-02-2016 01:25</td>\n",
              "      <td>01-02-2016 01:37</td>\n",
              "      <td>Business</td>\n",
              "      <td>Fort Pierce</td>\n",
              "      <td>Fort Pierce</td>\n",
              "      <td>NaN</td>\n",
              "    </tr>\n",
              "    <tr>\n",
              "      <th>2</th>\n",
              "      <td>3</td>\n",
              "      <td>01-02-2016 20:25</td>\n",
              "      <td>01-02-2016 20:38</td>\n",
              "      <td>Business</td>\n",
              "      <td>Fort Pierce</td>\n",
              "      <td>Fort Pierce</td>\n",
              "      <td>Errand/Supplies</td>\n",
              "    </tr>\n",
              "    <tr>\n",
              "      <th>3</th>\n",
              "      <td>4</td>\n",
              "      <td>01-05-2016 17:31</td>\n",
              "      <td>01-05-2016 17:45</td>\n",
              "      <td>Business</td>\n",
              "      <td>Fort Pierce</td>\n",
              "      <td>Fort Pierce</td>\n",
              "      <td>Meeting</td>\n",
              "    </tr>\n",
              "    <tr>\n",
              "      <th>5</th>\n",
              "      <td>6</td>\n",
              "      <td>01-06-2016 17:15</td>\n",
              "      <td>01-06-2016 17:19</td>\n",
              "      <td>Business</td>\n",
              "      <td>West Palm Beach</td>\n",
              "      <td>West Palm Beach</td>\n",
              "      <td>Meal/Entertain</td>\n",
              "    </tr>\n",
              "  </tbody>\n",
              "</table>\n",
              "</div>"
            ],
            "text/plain": [
              "   Trip_Id        START_DATE          END_DATE  CATEGORY            START  \\\n",
              "0        1  01-01-2016 21:11  01-01-2016 21:17  Business      Fort Pierce   \n",
              "1        2  01-02-2016 01:25  01-02-2016 01:37  Business      Fort Pierce   \n",
              "2        3  01-02-2016 20:25  01-02-2016 20:38  Business      Fort Pierce   \n",
              "3        4  01-05-2016 17:31  01-05-2016 17:45  Business      Fort Pierce   \n",
              "5        6  01-06-2016 17:15  01-06-2016 17:19  Business  West Palm Beach   \n",
              "\n",
              "              STOP          PURPOSE  \n",
              "0      Fort Pierce   Meal/Entertain  \n",
              "1      Fort Pierce              NaN  \n",
              "2      Fort Pierce  Errand/Supplies  \n",
              "3      Fort Pierce          Meeting  \n",
              "5  West Palm Beach   Meal/Entertain  "
            ]
          },
          "execution_count": 116,
          "metadata": {
            "tags": []
          },
          "output_type": "execute_result"
        }
      ]
    },
    {
      "cell_type": "code",
      "metadata": {
        "id": "CWFGmt2djqDm",
        "scrolled": true,
        "outputId": "55d2d7fc-b8a4-4933-988c-3d5f1084fe1e"
      },
      "source": [
        "df[df['START'] == df['STOP']].shape"
      ],
      "execution_count": null,
      "outputs": [
        {
          "data": {
            "text/plain": [
              "(288, 7)"
            ]
          },
          "execution_count": 117,
          "metadata": {
            "tags": []
          },
          "output_type": "execute_result"
        }
      ]
    },
    {
      "cell_type": "markdown",
      "metadata": {
        "id": "4Vwn8ov2jqDm"
      },
      "source": [
        "**288 trips have the same start and stop points**"
      ]
    },
    {
      "cell_type": "markdown",
      "metadata": {
        "id": "d8F_7jKZjqDm"
      },
      "source": [
        "**4.Starting point from which the most miles have been driven**\n",
        "\n",
        "**In order to use the miles feature, let us now merge the two dataframes so that the all the information is in one dataframe.**\n",
        "- using merge \n"
      ]
    },
    {
      "cell_type": "code",
      "metadata": {
        "id": "MLBPQNyRjqDm",
        "scrolled": true,
        "colab": {
          "base_uri": "https://localhost:8080/",
          "height": 206
        },
        "outputId": "b430d525-948e-41b1-a1b4-f6dc83928839"
      },
      "source": [
        "df_join = pd.merge(df, \n",
        "                   df_miles,\n",
        "                   on = 'Trip_Id',\n",
        "                   how = 'left')\n",
        "df_join.head(5)"
      ],
      "execution_count": 43,
      "outputs": [
        {
          "output_type": "execute_result",
          "data": {
            "text/html": [
              "<div>\n",
              "<style scoped>\n",
              "    .dataframe tbody tr th:only-of-type {\n",
              "        vertical-align: middle;\n",
              "    }\n",
              "\n",
              "    .dataframe tbody tr th {\n",
              "        vertical-align: top;\n",
              "    }\n",
              "\n",
              "    .dataframe thead th {\n",
              "        text-align: right;\n",
              "    }\n",
              "</style>\n",
              "<table border=\"1\" class=\"dataframe\">\n",
              "  <thead>\n",
              "    <tr style=\"text-align: right;\">\n",
              "      <th></th>\n",
              "      <th>Trip_Id</th>\n",
              "      <th>START_DATE</th>\n",
              "      <th>END_DATE</th>\n",
              "      <th>CATEGORY</th>\n",
              "      <th>START</th>\n",
              "      <th>STOP</th>\n",
              "      <th>PURPOSE</th>\n",
              "      <th>MILES</th>\n",
              "    </tr>\n",
              "  </thead>\n",
              "  <tbody>\n",
              "    <tr>\n",
              "      <th>0</th>\n",
              "      <td>1</td>\n",
              "      <td>01-01-2016 21:11</td>\n",
              "      <td>01-01-2016 21:17</td>\n",
              "      <td>Business</td>\n",
              "      <td>Fort Pierce</td>\n",
              "      <td>Fort Pierce</td>\n",
              "      <td>Meal/Entertain</td>\n",
              "      <td>5.1</td>\n",
              "    </tr>\n",
              "    <tr>\n",
              "      <th>1</th>\n",
              "      <td>2</td>\n",
              "      <td>01-02-2016 01:25</td>\n",
              "      <td>01-02-2016 01:37</td>\n",
              "      <td>Business</td>\n",
              "      <td>Fort Pierce</td>\n",
              "      <td>Fort Pierce</td>\n",
              "      <td>NaN</td>\n",
              "      <td>5.0</td>\n",
              "    </tr>\n",
              "    <tr>\n",
              "      <th>2</th>\n",
              "      <td>3</td>\n",
              "      <td>01-02-2016 20:25</td>\n",
              "      <td>01-02-2016 20:38</td>\n",
              "      <td>Business</td>\n",
              "      <td>Fort Pierce</td>\n",
              "      <td>Fort Pierce</td>\n",
              "      <td>Errand/Supplies</td>\n",
              "      <td>4.8</td>\n",
              "    </tr>\n",
              "    <tr>\n",
              "      <th>3</th>\n",
              "      <td>4</td>\n",
              "      <td>01-05-2016 17:31</td>\n",
              "      <td>01-05-2016 17:45</td>\n",
              "      <td>Business</td>\n",
              "      <td>Fort Pierce</td>\n",
              "      <td>Fort Pierce</td>\n",
              "      <td>Meeting</td>\n",
              "      <td>4.7</td>\n",
              "    </tr>\n",
              "    <tr>\n",
              "      <th>4</th>\n",
              "      <td>5</td>\n",
              "      <td>01-06-2016 14:42</td>\n",
              "      <td>01-06-2016 15:49</td>\n",
              "      <td>Business</td>\n",
              "      <td>Fort Pierce</td>\n",
              "      <td>West Palm Beach</td>\n",
              "      <td>Customer Visit</td>\n",
              "      <td>63.7</td>\n",
              "    </tr>\n",
              "  </tbody>\n",
              "</table>\n",
              "</div>"
            ],
            "text/plain": [
              "   Trip_Id        START_DATE  ...          PURPOSE MILES\n",
              "0        1  01-01-2016 21:11  ...   Meal/Entertain   5.1\n",
              "1        2  01-02-2016 01:25  ...              NaN   5.0\n",
              "2        3  01-02-2016 20:25  ...  Errand/Supplies   4.8\n",
              "3        4  01-05-2016 17:31  ...          Meeting   4.7\n",
              "4        5  01-06-2016 14:42  ...   Customer Visit  63.7\n",
              "\n",
              "[5 rows x 8 columns]"
            ]
          },
          "metadata": {},
          "execution_count": 43
        }
      ]
    },
    {
      "cell_type": "markdown",
      "metadata": {
        "id": "BCSFe-qKjqDn"
      },
      "source": [
        "**Let's now use groupby function to find the starting point from which the most miles have been driven**"
      ]
    },
    {
      "cell_type": "code",
      "metadata": {
        "colab": {
          "base_uri": "https://localhost:8080/"
        },
        "id": "h9AtPVhvbfsL",
        "outputId": "456f7b85-6562-46f0-83b0-104f7fe12d8a"
      },
      "source": [
        "df_join.groupby('START')['MILES'].sum().sort_values(ascending = False ).head(10)#.reset_index()"
      ],
      "execution_count": 52,
      "outputs": [
        {
          "output_type": "execute_result",
          "data": {
            "text/plain": [
              "START\n",
              "Unknown Location    1976.5\n",
              "Cary                1791.3\n",
              "Morrisville          671.7\n",
              "Raleigh              433.0\n",
              "Islamabad            401.2\n",
              "Durham               384.4\n",
              "Jacksonville         375.2\n",
              "Latta                310.3\n",
              "Asheville            287.7\n",
              "Whitebridge          273.4\n",
              "Name: MILES, dtype: float64"
            ]
          },
          "metadata": {},
          "execution_count": 52
        }
      ]
    },
    {
      "cell_type": "code",
      "metadata": {
        "colab": {
          "base_uri": "https://localhost:8080/",
          "height": 394
        },
        "id": "I1oDU0J-73vr",
        "scrolled": false,
        "outputId": "7df485fa-ddcf-4868-8e29-18c8710c2641"
      },
      "source": [
        "pd.DataFrame(df_join.groupby('START')['MILES'].sum().sort_values(ascending = False )).head(10)#.reset_index()"
      ],
      "execution_count": 53,
      "outputs": [
        {
          "output_type": "execute_result",
          "data": {
            "text/html": [
              "<div>\n",
              "<style scoped>\n",
              "    .dataframe tbody tr th:only-of-type {\n",
              "        vertical-align: middle;\n",
              "    }\n",
              "\n",
              "    .dataframe tbody tr th {\n",
              "        vertical-align: top;\n",
              "    }\n",
              "\n",
              "    .dataframe thead th {\n",
              "        text-align: right;\n",
              "    }\n",
              "</style>\n",
              "<table border=\"1\" class=\"dataframe\">\n",
              "  <thead>\n",
              "    <tr style=\"text-align: right;\">\n",
              "      <th></th>\n",
              "      <th>MILES</th>\n",
              "    </tr>\n",
              "    <tr>\n",
              "      <th>START</th>\n",
              "      <th></th>\n",
              "    </tr>\n",
              "  </thead>\n",
              "  <tbody>\n",
              "    <tr>\n",
              "      <th>Unknown Location</th>\n",
              "      <td>1976.5</td>\n",
              "    </tr>\n",
              "    <tr>\n",
              "      <th>Cary</th>\n",
              "      <td>1791.3</td>\n",
              "    </tr>\n",
              "    <tr>\n",
              "      <th>Morrisville</th>\n",
              "      <td>671.7</td>\n",
              "    </tr>\n",
              "    <tr>\n",
              "      <th>Raleigh</th>\n",
              "      <td>433.0</td>\n",
              "    </tr>\n",
              "    <tr>\n",
              "      <th>Islamabad</th>\n",
              "      <td>401.2</td>\n",
              "    </tr>\n",
              "    <tr>\n",
              "      <th>Durham</th>\n",
              "      <td>384.4</td>\n",
              "    </tr>\n",
              "    <tr>\n",
              "      <th>Jacksonville</th>\n",
              "      <td>375.2</td>\n",
              "    </tr>\n",
              "    <tr>\n",
              "      <th>Latta</th>\n",
              "      <td>310.3</td>\n",
              "    </tr>\n",
              "    <tr>\n",
              "      <th>Asheville</th>\n",
              "      <td>287.7</td>\n",
              "    </tr>\n",
              "    <tr>\n",
              "      <th>Whitebridge</th>\n",
              "      <td>273.4</td>\n",
              "    </tr>\n",
              "  </tbody>\n",
              "</table>\n",
              "</div>"
            ],
            "text/plain": [
              "                   MILES\n",
              "START                   \n",
              "Unknown Location  1976.5\n",
              "Cary              1791.3\n",
              "Morrisville        671.7\n",
              "Raleigh            433.0\n",
              "Islamabad          401.2\n",
              "Durham             384.4\n",
              "Jacksonville       375.2\n",
              "Latta              310.3\n",
              "Asheville          287.7\n",
              "Whitebridge        273.4"
            ]
          },
          "metadata": {},
          "execution_count": 53
        }
      ]
    },
    {
      "cell_type": "code",
      "metadata": {
        "colab": {
          "base_uri": "https://localhost:8080/",
          "height": 363
        },
        "id": "stxNL_tob2gx",
        "outputId": "eb58072b-fc68-487f-8703-d8a487703035"
      },
      "source": [
        "pd.DataFrame(df_join.groupby('START')['MILES'].sum().sort_values(ascending = False )).head(10).reset_index()"
      ],
      "execution_count": 57,
      "outputs": [
        {
          "output_type": "execute_result",
          "data": {
            "text/html": [
              "<div>\n",
              "<style scoped>\n",
              "    .dataframe tbody tr th:only-of-type {\n",
              "        vertical-align: middle;\n",
              "    }\n",
              "\n",
              "    .dataframe tbody tr th {\n",
              "        vertical-align: top;\n",
              "    }\n",
              "\n",
              "    .dataframe thead th {\n",
              "        text-align: right;\n",
              "    }\n",
              "</style>\n",
              "<table border=\"1\" class=\"dataframe\">\n",
              "  <thead>\n",
              "    <tr style=\"text-align: right;\">\n",
              "      <th></th>\n",
              "      <th>START</th>\n",
              "      <th>MILES</th>\n",
              "    </tr>\n",
              "  </thead>\n",
              "  <tbody>\n",
              "    <tr>\n",
              "      <th>0</th>\n",
              "      <td>Unknown Location</td>\n",
              "      <td>1976.5</td>\n",
              "    </tr>\n",
              "    <tr>\n",
              "      <th>1</th>\n",
              "      <td>Cary</td>\n",
              "      <td>1791.3</td>\n",
              "    </tr>\n",
              "    <tr>\n",
              "      <th>2</th>\n",
              "      <td>Morrisville</td>\n",
              "      <td>671.7</td>\n",
              "    </tr>\n",
              "    <tr>\n",
              "      <th>3</th>\n",
              "      <td>Raleigh</td>\n",
              "      <td>433.0</td>\n",
              "    </tr>\n",
              "    <tr>\n",
              "      <th>4</th>\n",
              "      <td>Islamabad</td>\n",
              "      <td>401.2</td>\n",
              "    </tr>\n",
              "    <tr>\n",
              "      <th>5</th>\n",
              "      <td>Durham</td>\n",
              "      <td>384.4</td>\n",
              "    </tr>\n",
              "    <tr>\n",
              "      <th>6</th>\n",
              "      <td>Jacksonville</td>\n",
              "      <td>375.2</td>\n",
              "    </tr>\n",
              "    <tr>\n",
              "      <th>7</th>\n",
              "      <td>Latta</td>\n",
              "      <td>310.3</td>\n",
              "    </tr>\n",
              "    <tr>\n",
              "      <th>8</th>\n",
              "      <td>Asheville</td>\n",
              "      <td>287.7</td>\n",
              "    </tr>\n",
              "    <tr>\n",
              "      <th>9</th>\n",
              "      <td>Whitebridge</td>\n",
              "      <td>273.4</td>\n",
              "    </tr>\n",
              "  </tbody>\n",
              "</table>\n",
              "</div>"
            ],
            "text/plain": [
              "              START   MILES\n",
              "0  Unknown Location  1976.5\n",
              "1              Cary  1791.3\n",
              "2       Morrisville   671.7\n",
              "3           Raleigh   433.0\n",
              "4         Islamabad   401.2\n",
              "5            Durham   384.4\n",
              "6      Jacksonville   375.2\n",
              "7             Latta   310.3\n",
              "8         Asheville   287.7\n",
              "9       Whitebridge   273.4"
            ]
          },
          "metadata": {},
          "execution_count": 57
        }
      ]
    },
    {
      "cell_type": "markdown",
      "metadata": {
        "id": "vZAK9oCujqDn"
      },
      "source": [
        "**5. Find the top10 start stop pair that have the most miles covered between them ever.**"
      ]
    },
    {
      "cell_type": "code",
      "metadata": {
        "colab": {
          "base_uri": "https://localhost:8080/",
          "height": 363
        },
        "id": "M5wls9z8hfqT",
        "outputId": "e3b2427a-20e4-4ebd-da15-10d3d05c488b"
      },
      "source": [
        "df_join[df_join['START'] == df['STOP']].sort_values('MILES', ascending = False).iloc[0:10,:]"
      ],
      "execution_count": 59,
      "outputs": [
        {
          "output_type": "execute_result",
          "data": {
            "text/html": [
              "<div>\n",
              "<style scoped>\n",
              "    .dataframe tbody tr th:only-of-type {\n",
              "        vertical-align: middle;\n",
              "    }\n",
              "\n",
              "    .dataframe tbody tr th {\n",
              "        vertical-align: top;\n",
              "    }\n",
              "\n",
              "    .dataframe thead th {\n",
              "        text-align: right;\n",
              "    }\n",
              "</style>\n",
              "<table border=\"1\" class=\"dataframe\">\n",
              "  <thead>\n",
              "    <tr style=\"text-align: right;\">\n",
              "      <th></th>\n",
              "      <th>Trip_Id</th>\n",
              "      <th>START_DATE</th>\n",
              "      <th>END_DATE</th>\n",
              "      <th>CATEGORY</th>\n",
              "      <th>START</th>\n",
              "      <th>STOP</th>\n",
              "      <th>PURPOSE</th>\n",
              "      <th>MILES</th>\n",
              "    </tr>\n",
              "  </thead>\n",
              "  <tbody>\n",
              "    <tr>\n",
              "      <th>776</th>\n",
              "      <td>777</td>\n",
              "      <td>9/27/2016 21:01</td>\n",
              "      <td>9/28/2016 2:37</td>\n",
              "      <td>Business</td>\n",
              "      <td>Unknown Location</td>\n",
              "      <td>Unknown Location</td>\n",
              "      <td>NaN</td>\n",
              "      <td>195.6</td>\n",
              "    </tr>\n",
              "    <tr>\n",
              "      <th>727</th>\n",
              "      <td>728</td>\n",
              "      <td>8/27/2016 16:15</td>\n",
              "      <td>8/27/2016 19:13</td>\n",
              "      <td>Business</td>\n",
              "      <td>Unknown Location</td>\n",
              "      <td>Unknown Location</td>\n",
              "      <td>NaN</td>\n",
              "      <td>156.9</td>\n",
              "    </tr>\n",
              "    <tr>\n",
              "      <th>707</th>\n",
              "      <td>708</td>\n",
              "      <td>8/24/2016 13:01</td>\n",
              "      <td>8/24/2016 15:25</td>\n",
              "      <td>Business</td>\n",
              "      <td>Unknown Location</td>\n",
              "      <td>Unknown Location</td>\n",
              "      <td>NaN</td>\n",
              "      <td>96.2</td>\n",
              "    </tr>\n",
              "    <tr>\n",
              "      <th>751</th>\n",
              "      <td>752</td>\n",
              "      <td>09-06-2016 17:49</td>\n",
              "      <td>09-06-2016 17:49</td>\n",
              "      <td>Business</td>\n",
              "      <td>Unknown Location</td>\n",
              "      <td>Unknown Location</td>\n",
              "      <td>NaN</td>\n",
              "      <td>69.1</td>\n",
              "    </tr>\n",
              "    <tr>\n",
              "      <th>710</th>\n",
              "      <td>711</td>\n",
              "      <td>8/25/2016 17:19</td>\n",
              "      <td>8/25/2016 19:20</td>\n",
              "      <td>Business</td>\n",
              "      <td>Unknown Location</td>\n",
              "      <td>Unknown Location</td>\n",
              "      <td>NaN</td>\n",
              "      <td>50.4</td>\n",
              "    </tr>\n",
              "    <tr>\n",
              "      <th>979</th>\n",
              "      <td>980</td>\n",
              "      <td>11/20/2016 10:27</td>\n",
              "      <td>11/20/2016 11:32</td>\n",
              "      <td>Business</td>\n",
              "      <td>Cary</td>\n",
              "      <td>Cary</td>\n",
              "      <td>Between Offices</td>\n",
              "      <td>39.2</td>\n",
              "    </tr>\n",
              "    <tr>\n",
              "      <th>779</th>\n",
              "      <td>780</td>\n",
              "      <td>9/30/2016 17:39</td>\n",
              "      <td>9/30/2016 20:20</td>\n",
              "      <td>Business</td>\n",
              "      <td>Islamabad</td>\n",
              "      <td>Islamabad</td>\n",
              "      <td>NaN</td>\n",
              "      <td>37.7</td>\n",
              "    </tr>\n",
              "    <tr>\n",
              "      <th>708</th>\n",
              "      <td>709</td>\n",
              "      <td>8/25/2016 15:17</td>\n",
              "      <td>8/25/2016 16:22</td>\n",
              "      <td>Business</td>\n",
              "      <td>Unknown Location</td>\n",
              "      <td>Unknown Location</td>\n",
              "      <td>NaN</td>\n",
              "      <td>35.0</td>\n",
              "    </tr>\n",
              "    <tr>\n",
              "      <th>1089</th>\n",
              "      <td>1090</td>\n",
              "      <td>12/22/2016 15:40</td>\n",
              "      <td>12/22/2016 16:38</td>\n",
              "      <td>Business</td>\n",
              "      <td>Unknown Location</td>\n",
              "      <td>Unknown Location</td>\n",
              "      <td>Meeting</td>\n",
              "      <td>32.3</td>\n",
              "    </tr>\n",
              "    <tr>\n",
              "      <th>785</th>\n",
              "      <td>786</td>\n",
              "      <td>10-04-2016 09:50</td>\n",
              "      <td>10-04-2016 10:52</td>\n",
              "      <td>Business</td>\n",
              "      <td>Unknown Location</td>\n",
              "      <td>Unknown Location</td>\n",
              "      <td>NaN</td>\n",
              "      <td>28.6</td>\n",
              "    </tr>\n",
              "  </tbody>\n",
              "</table>\n",
              "</div>"
            ],
            "text/plain": [
              "      Trip_Id        START_DATE  ...          PURPOSE  MILES\n",
              "776       777   9/27/2016 21:01  ...              NaN  195.6\n",
              "727       728   8/27/2016 16:15  ...              NaN  156.9\n",
              "707       708   8/24/2016 13:01  ...              NaN   96.2\n",
              "751       752  09-06-2016 17:49  ...              NaN   69.1\n",
              "710       711   8/25/2016 17:19  ...              NaN   50.4\n",
              "979       980  11/20/2016 10:27  ...  Between Offices   39.2\n",
              "779       780   9/30/2016 17:39  ...              NaN   37.7\n",
              "708       709   8/25/2016 15:17  ...              NaN   35.0\n",
              "1089     1090  12/22/2016 15:40  ...          Meeting   32.3\n",
              "785       786  10-04-2016 09:50  ...              NaN   28.6\n",
              "\n",
              "[10 rows x 8 columns]"
            ]
          },
          "metadata": {},
          "execution_count": 59
        }
      ]
    },
    {
      "cell_type": "markdown",
      "metadata": {
        "id": "sN8WmJMa73vu"
      },
      "source": [
        "# Let us drop the unknown locations\n",
        "df2 = df[df['START'] != 'Unknown Location']             # Makes a new dataframe, which don't have \"Unknown Location\" as starting point\n",
        "df2 = df2[df2['STOP'] != 'Unknown Location']            # Further updates the df2 dataframe, by removing \"Unknown Location\" as stopping point"
      ]
    },
    {
      "cell_type": "code",
      "metadata": {
        "id": "INwRpLTOiLTe"
      },
      "source": [
        "# Let us drop the unknown locations\n",
        "\n",
        "df2 = df_join[df_join['START'] != 'Unknown Location']             # Makes a new dataframe, which don't have \"Unknown Location\" as starting point\n",
        "\n",
        "df2 = df2[df2['STOP'] != 'Unknown Location']            # Further updates the df2 dataframe, by removing \"Unknown Location\" as stopping point"
      ],
      "execution_count": 60,
      "outputs": []
    },
    {
      "cell_type": "code",
      "metadata": {
        "colab": {
          "base_uri": "https://localhost:8080/",
          "height": 423
        },
        "id": "0HqEdeq5j2Te",
        "outputId": "5aadbbe8-f3b6-4296-aee0-6b5d87fee800"
      },
      "source": [
        "# Creating a dataframe with the top 10 most miles covered between a start stop pair\n",
        "\n",
        "k3 = df2.groupby(['START','STOP'])['MILES'].sum().sort_values(ascending=False).reset_index() # flatten the dataframe\n",
        "\n",
        "k3 "
      ],
      "execution_count": 64,
      "outputs": [
        {
          "output_type": "execute_result",
          "data": {
            "text/html": [
              "<div>\n",
              "<style scoped>\n",
              "    .dataframe tbody tr th:only-of-type {\n",
              "        vertical-align: middle;\n",
              "    }\n",
              "\n",
              "    .dataframe tbody tr th {\n",
              "        vertical-align: top;\n",
              "    }\n",
              "\n",
              "    .dataframe thead th {\n",
              "        text-align: right;\n",
              "    }\n",
              "</style>\n",
              "<table border=\"1\" class=\"dataframe\">\n",
              "  <thead>\n",
              "    <tr style=\"text-align: right;\">\n",
              "      <th></th>\n",
              "      <th>START</th>\n",
              "      <th>STOP</th>\n",
              "      <th>MILES</th>\n",
              "    </tr>\n",
              "  </thead>\n",
              "  <tbody>\n",
              "    <tr>\n",
              "      <th>0</th>\n",
              "      <td>Morrisville</td>\n",
              "      <td>Cary</td>\n",
              "      <td>395.7</td>\n",
              "    </tr>\n",
              "    <tr>\n",
              "      <th>1</th>\n",
              "      <td>Cary</td>\n",
              "      <td>Durham</td>\n",
              "      <td>390.0</td>\n",
              "    </tr>\n",
              "    <tr>\n",
              "      <th>2</th>\n",
              "      <td>Cary</td>\n",
              "      <td>Morrisville</td>\n",
              "      <td>380.0</td>\n",
              "    </tr>\n",
              "    <tr>\n",
              "      <th>3</th>\n",
              "      <td>Raleigh</td>\n",
              "      <td>Cary</td>\n",
              "      <td>365.7</td>\n",
              "    </tr>\n",
              "    <tr>\n",
              "      <th>4</th>\n",
              "      <td>Cary</td>\n",
              "      <td>Raleigh</td>\n",
              "      <td>336.5</td>\n",
              "    </tr>\n",
              "    <tr>\n",
              "      <th>...</th>\n",
              "      <td>...</td>\n",
              "      <td>...</td>\n",
              "      <td>...</td>\n",
              "    </tr>\n",
              "    <tr>\n",
              "      <th>338</th>\n",
              "      <td>Sunnyside</td>\n",
              "      <td>Ingleside</td>\n",
              "      <td>0.7</td>\n",
              "    </tr>\n",
              "    <tr>\n",
              "      <th>339</th>\n",
              "      <td>Medical Centre</td>\n",
              "      <td>Tudor City</td>\n",
              "      <td>0.7</td>\n",
              "    </tr>\n",
              "    <tr>\n",
              "      <th>340</th>\n",
              "      <td>Central</td>\n",
              "      <td>West Berkeley</td>\n",
              "      <td>0.6</td>\n",
              "    </tr>\n",
              "    <tr>\n",
              "      <th>341</th>\n",
              "      <td>Soho</td>\n",
              "      <td>Tribeca</td>\n",
              "      <td>0.5</td>\n",
              "    </tr>\n",
              "    <tr>\n",
              "      <th>342</th>\n",
              "      <td>Katunayaka</td>\n",
              "      <td>Katunayaka</td>\n",
              "      <td>0.5</td>\n",
              "    </tr>\n",
              "  </tbody>\n",
              "</table>\n",
              "<p>343 rows × 3 columns</p>\n",
              "</div>"
            ],
            "text/plain": [
              "              START           STOP  MILES\n",
              "0       Morrisville           Cary  395.7\n",
              "1              Cary         Durham  390.0\n",
              "2              Cary    Morrisville  380.0\n",
              "3           Raleigh           Cary  365.7\n",
              "4              Cary        Raleigh  336.5\n",
              "..              ...            ...    ...\n",
              "338       Sunnyside      Ingleside    0.7\n",
              "339  Medical Centre     Tudor City    0.7\n",
              "340         Central  West Berkeley    0.6\n",
              "341            Soho        Tribeca    0.5\n",
              "342      Katunayaka     Katunayaka    0.5\n",
              "\n",
              "[343 rows x 3 columns]"
            ]
          },
          "metadata": {},
          "execution_count": 64
        }
      ]
    },
    {
      "cell_type": "code",
      "metadata": {
        "id": "2O1Ns2RDj7F5"
      },
      "source": [
        "k3['Start-Stop'] = k3['START'] + ' - ' + k3['STOP']"
      ],
      "execution_count": 65,
      "outputs": []
    },
    {
      "cell_type": "code",
      "metadata": {
        "colab": {
          "base_uri": "https://localhost:8080/"
        },
        "id": "Qzix_S2V73vu",
        "scrolled": true,
        "outputId": "d45e2d19-2ace-4ccd-88d3-63b36409962b"
      },
      "source": [
        "k3 = df2.groupby(['START','STOP'])['MILES'].sum().sort_values(ascending=False).head(10) \n",
        "k3"
      ],
      "execution_count": 67,
      "outputs": [
        {
          "output_type": "execute_result",
          "data": {
            "text/plain": [
              "START         STOP        \n",
              "Morrisville   Cary            395.7\n",
              "Cary          Durham          390.0\n",
              "              Morrisville     380.0\n",
              "Raleigh       Cary            365.7\n",
              "Cary          Raleigh         336.5\n",
              "Durham        Cary            334.4\n",
              "Latta         Jacksonville    310.3\n",
              "Cary          Cary            255.9\n",
              "Jacksonville  Kissimmee       201.0\n",
              "Asheville     Mebane          195.9\n",
              "Name: MILES, dtype: float64"
            ]
          },
          "metadata": {},
          "execution_count": 67
        }
      ]
    },
    {
      "cell_type": "code",
      "metadata": {
        "id": "a7SeDSJwk7qd"
      },
      "source": [
        ""
      ],
      "execution_count": null,
      "outputs": []
    },
    {
      "cell_type": "markdown",
      "metadata": {
        "id": "12S-vpsk73v8"
      },
      "source": [
        "**The most popular start to destination pair is Morrisville-Cary**"
      ]
    },
    {
      "cell_type": "markdown",
      "metadata": {
        "id": "AEuPLlqK73v8"
      },
      "source": [
        "<a id = \"link4\"></a>\n",
        "## 2. Start Date - End Date \n",
        "### Manipulating date & time objects\n",
        "#### Lets explore the variables using the below points-\n",
        "- busiest month in terms of number of drives and miles driven\n",
        "- busiest day of the week and preferred start hour \n",
        "- peak hours\n",
        "\n",
        "We will create more features for the trip data to be able to cater to above profile mappings"
      ]
    },
    {
      "cell_type": "code",
      "metadata": {
        "colab": {
          "base_uri": "https://localhost:8080/",
          "height": 143
        },
        "id": "aMvHdBEA73v9",
        "outputId": "93c761f8-6d09-432f-d15a-330467ddbc51"
      },
      "source": [
        "df_join.head(3)"
      ],
      "execution_count": 68,
      "outputs": [
        {
          "output_type": "execute_result",
          "data": {
            "text/html": [
              "<div>\n",
              "<style scoped>\n",
              "    .dataframe tbody tr th:only-of-type {\n",
              "        vertical-align: middle;\n",
              "    }\n",
              "\n",
              "    .dataframe tbody tr th {\n",
              "        vertical-align: top;\n",
              "    }\n",
              "\n",
              "    .dataframe thead th {\n",
              "        text-align: right;\n",
              "    }\n",
              "</style>\n",
              "<table border=\"1\" class=\"dataframe\">\n",
              "  <thead>\n",
              "    <tr style=\"text-align: right;\">\n",
              "      <th></th>\n",
              "      <th>Trip_Id</th>\n",
              "      <th>START_DATE</th>\n",
              "      <th>END_DATE</th>\n",
              "      <th>CATEGORY</th>\n",
              "      <th>START</th>\n",
              "      <th>STOP</th>\n",
              "      <th>PURPOSE</th>\n",
              "      <th>MILES</th>\n",
              "    </tr>\n",
              "  </thead>\n",
              "  <tbody>\n",
              "    <tr>\n",
              "      <th>0</th>\n",
              "      <td>1</td>\n",
              "      <td>01-01-2016 21:11</td>\n",
              "      <td>01-01-2016 21:17</td>\n",
              "      <td>Business</td>\n",
              "      <td>Fort Pierce</td>\n",
              "      <td>Fort Pierce</td>\n",
              "      <td>Meal/Entertain</td>\n",
              "      <td>5.1</td>\n",
              "    </tr>\n",
              "    <tr>\n",
              "      <th>1</th>\n",
              "      <td>2</td>\n",
              "      <td>01-02-2016 01:25</td>\n",
              "      <td>01-02-2016 01:37</td>\n",
              "      <td>Business</td>\n",
              "      <td>Fort Pierce</td>\n",
              "      <td>Fort Pierce</td>\n",
              "      <td>NaN</td>\n",
              "      <td>5.0</td>\n",
              "    </tr>\n",
              "    <tr>\n",
              "      <th>2</th>\n",
              "      <td>3</td>\n",
              "      <td>01-02-2016 20:25</td>\n",
              "      <td>01-02-2016 20:38</td>\n",
              "      <td>Business</td>\n",
              "      <td>Fort Pierce</td>\n",
              "      <td>Fort Pierce</td>\n",
              "      <td>Errand/Supplies</td>\n",
              "      <td>4.8</td>\n",
              "    </tr>\n",
              "  </tbody>\n",
              "</table>\n",
              "</div>"
            ],
            "text/plain": [
              "   Trip_Id        START_DATE  ...          PURPOSE MILES\n",
              "0        1  01-01-2016 21:11  ...   Meal/Entertain   5.1\n",
              "1        2  01-02-2016 01:25  ...              NaN   5.0\n",
              "2        3  01-02-2016 20:25  ...  Errand/Supplies   4.8\n",
              "\n",
              "[3 rows x 8 columns]"
            ]
          },
          "metadata": {},
          "execution_count": 68
        }
      ]
    },
    {
      "cell_type": "code",
      "metadata": {
        "colab": {
          "base_uri": "https://localhost:8080/"
        },
        "id": "x73FrX-C73v_",
        "scrolled": true,
        "outputId": "af88c9ba-5f46-4167-d3f2-caf8a245ce16"
      },
      "source": [
        "df_join.dtypes"
      ],
      "execution_count": 69,
      "outputs": [
        {
          "output_type": "execute_result",
          "data": {
            "text/plain": [
              "Trip_Id         int64\n",
              "START_DATE     object\n",
              "END_DATE       object\n",
              "CATEGORY       object\n",
              "START          object\n",
              "STOP           object\n",
              "PURPOSE        object\n",
              "MILES         float64\n",
              "dtype: object"
            ]
          },
          "metadata": {},
          "execution_count": 69
        }
      ]
    },
    {
      "cell_type": "code",
      "metadata": {
        "id": "0wu_rDvC73wB"
      },
      "source": [
        "# Create columns by converting the start and end date into a datatime format\n",
        "# You can also over write the same column - but for the sake of understanding the difference in formats, we create new columns\n",
        "\n",
        "df_join['start_dt'] = pd.to_datetime(df['START_DATE'])\n",
        "df_join['end_dt'] = pd.to_datetime(df['END_DATE'])"
      ],
      "execution_count": 70,
      "outputs": []
    },
    {
      "cell_type": "code",
      "metadata": {
        "colab": {
          "base_uri": "https://localhost:8080/",
          "height": 293
        },
        "id": "mzEZTrdZ73wD",
        "outputId": "914090b6-6999-4bc6-c72d-fe8f5e41692b"
      },
      "source": [
        "df_join.head()             # Print first 5 rows of data."
      ],
      "execution_count": 71,
      "outputs": [
        {
          "output_type": "execute_result",
          "data": {
            "text/html": [
              "<div>\n",
              "<style scoped>\n",
              "    .dataframe tbody tr th:only-of-type {\n",
              "        vertical-align: middle;\n",
              "    }\n",
              "\n",
              "    .dataframe tbody tr th {\n",
              "        vertical-align: top;\n",
              "    }\n",
              "\n",
              "    .dataframe thead th {\n",
              "        text-align: right;\n",
              "    }\n",
              "</style>\n",
              "<table border=\"1\" class=\"dataframe\">\n",
              "  <thead>\n",
              "    <tr style=\"text-align: right;\">\n",
              "      <th></th>\n",
              "      <th>Trip_Id</th>\n",
              "      <th>START_DATE</th>\n",
              "      <th>END_DATE</th>\n",
              "      <th>CATEGORY</th>\n",
              "      <th>START</th>\n",
              "      <th>STOP</th>\n",
              "      <th>PURPOSE</th>\n",
              "      <th>MILES</th>\n",
              "      <th>start_dt</th>\n",
              "      <th>end_dt</th>\n",
              "    </tr>\n",
              "  </thead>\n",
              "  <tbody>\n",
              "    <tr>\n",
              "      <th>0</th>\n",
              "      <td>1</td>\n",
              "      <td>01-01-2016 21:11</td>\n",
              "      <td>01-01-2016 21:17</td>\n",
              "      <td>Business</td>\n",
              "      <td>Fort Pierce</td>\n",
              "      <td>Fort Pierce</td>\n",
              "      <td>Meal/Entertain</td>\n",
              "      <td>5.1</td>\n",
              "      <td>2016-01-01 21:11:00</td>\n",
              "      <td>2016-01-01 21:17:00</td>\n",
              "    </tr>\n",
              "    <tr>\n",
              "      <th>1</th>\n",
              "      <td>2</td>\n",
              "      <td>01-02-2016 01:25</td>\n",
              "      <td>01-02-2016 01:37</td>\n",
              "      <td>Business</td>\n",
              "      <td>Fort Pierce</td>\n",
              "      <td>Fort Pierce</td>\n",
              "      <td>NaN</td>\n",
              "      <td>5.0</td>\n",
              "      <td>2016-01-02 01:25:00</td>\n",
              "      <td>2016-01-02 01:37:00</td>\n",
              "    </tr>\n",
              "    <tr>\n",
              "      <th>2</th>\n",
              "      <td>3</td>\n",
              "      <td>01-02-2016 20:25</td>\n",
              "      <td>01-02-2016 20:38</td>\n",
              "      <td>Business</td>\n",
              "      <td>Fort Pierce</td>\n",
              "      <td>Fort Pierce</td>\n",
              "      <td>Errand/Supplies</td>\n",
              "      <td>4.8</td>\n",
              "      <td>2016-01-02 20:25:00</td>\n",
              "      <td>2016-01-02 20:38:00</td>\n",
              "    </tr>\n",
              "    <tr>\n",
              "      <th>3</th>\n",
              "      <td>4</td>\n",
              "      <td>01-05-2016 17:31</td>\n",
              "      <td>01-05-2016 17:45</td>\n",
              "      <td>Business</td>\n",
              "      <td>Fort Pierce</td>\n",
              "      <td>Fort Pierce</td>\n",
              "      <td>Meeting</td>\n",
              "      <td>4.7</td>\n",
              "      <td>2016-01-05 17:31:00</td>\n",
              "      <td>2016-01-05 17:45:00</td>\n",
              "    </tr>\n",
              "    <tr>\n",
              "      <th>4</th>\n",
              "      <td>5</td>\n",
              "      <td>01-06-2016 14:42</td>\n",
              "      <td>01-06-2016 15:49</td>\n",
              "      <td>Business</td>\n",
              "      <td>Fort Pierce</td>\n",
              "      <td>West Palm Beach</td>\n",
              "      <td>Customer Visit</td>\n",
              "      <td>63.7</td>\n",
              "      <td>2016-01-06 14:42:00</td>\n",
              "      <td>2016-01-06 15:49:00</td>\n",
              "    </tr>\n",
              "  </tbody>\n",
              "</table>\n",
              "</div>"
            ],
            "text/plain": [
              "   Trip_Id        START_DATE  ...            start_dt              end_dt\n",
              "0        1  01-01-2016 21:11  ... 2016-01-01 21:11:00 2016-01-01 21:17:00\n",
              "1        2  01-02-2016 01:25  ... 2016-01-02 01:25:00 2016-01-02 01:37:00\n",
              "2        3  01-02-2016 20:25  ... 2016-01-02 20:25:00 2016-01-02 20:38:00\n",
              "3        4  01-05-2016 17:31  ... 2016-01-05 17:31:00 2016-01-05 17:45:00\n",
              "4        5  01-06-2016 14:42  ... 2016-01-06 14:42:00 2016-01-06 15:49:00\n",
              "\n",
              "[5 rows x 10 columns]"
            ]
          },
          "metadata": {},
          "execution_count": 71
        }
      ]
    },
    {
      "cell_type": "code",
      "metadata": {
        "colab": {
          "base_uri": "https://localhost:8080/"
        },
        "id": "-ViyTibxKhM-",
        "outputId": "920c18c8-7235-440a-ec4c-7764ce6ac151"
      },
      "source": [
        "df_join.dtypes             # See how the dtype is different"
      ],
      "execution_count": 72,
      "outputs": [
        {
          "output_type": "execute_result",
          "data": {
            "text/plain": [
              "Trip_Id                int64\n",
              "START_DATE            object\n",
              "END_DATE              object\n",
              "CATEGORY              object\n",
              "START                 object\n",
              "STOP                  object\n",
              "PURPOSE               object\n",
              "MILES                float64\n",
              "start_dt      datetime64[ns]\n",
              "end_dt        datetime64[ns]\n",
              "dtype: object"
            ]
          },
          "metadata": {},
          "execution_count": 72
        }
      ]
    },
    {
      "cell_type": "code",
      "metadata": {
        "id": "BUjYhgB173wH"
      },
      "source": [
        "# Create more columns by using the inbuilt functionalities of datatime module\n",
        "\n",
        "df_join['start_day'] = df_join['start_dt'].dt.day\n",
        "df_join['start_hour'] = df_join['start_dt'].dt.hour\n",
        "df_join['start_month'] = df_join['start_dt'].dt.month\n",
        "df_join['d_of_wk'] = df_join['start_dt'].dt.dayofweek   # Days encoded as 0-6  ( monday =0, Tue =1 .... )"
      ],
      "execution_count": 73,
      "outputs": []
    },
    {
      "cell_type": "code",
      "metadata": {
        "id": "Snw6YSyHjqDp",
        "colab": {
          "base_uri": "https://localhost:8080/",
          "height": 399
        },
        "outputId": "164c5544-c426-4fc1-e9af-c3fe82f02eca"
      },
      "source": [
        "df_join.head()"
      ],
      "execution_count": 76,
      "outputs": [
        {
          "output_type": "execute_result",
          "data": {
            "text/html": [
              "<div>\n",
              "<style scoped>\n",
              "    .dataframe tbody tr th:only-of-type {\n",
              "        vertical-align: middle;\n",
              "    }\n",
              "\n",
              "    .dataframe tbody tr th {\n",
              "        vertical-align: top;\n",
              "    }\n",
              "\n",
              "    .dataframe thead th {\n",
              "        text-align: right;\n",
              "    }\n",
              "</style>\n",
              "<table border=\"1\" class=\"dataframe\">\n",
              "  <thead>\n",
              "    <tr style=\"text-align: right;\">\n",
              "      <th></th>\n",
              "      <th>Trip_Id</th>\n",
              "      <th>START_DATE</th>\n",
              "      <th>END_DATE</th>\n",
              "      <th>CATEGORY</th>\n",
              "      <th>START</th>\n",
              "      <th>STOP</th>\n",
              "      <th>PURPOSE</th>\n",
              "      <th>MILES</th>\n",
              "      <th>start_dt</th>\n",
              "      <th>end_dt</th>\n",
              "      <th>start_day</th>\n",
              "      <th>start_hour</th>\n",
              "      <th>start_month</th>\n",
              "      <th>d_of_wk</th>\n",
              "    </tr>\n",
              "  </thead>\n",
              "  <tbody>\n",
              "    <tr>\n",
              "      <th>0</th>\n",
              "      <td>1</td>\n",
              "      <td>01-01-2016 21:11</td>\n",
              "      <td>01-01-2016 21:17</td>\n",
              "      <td>Business</td>\n",
              "      <td>Fort Pierce</td>\n",
              "      <td>Fort Pierce</td>\n",
              "      <td>Meal/Entertain</td>\n",
              "      <td>5.1</td>\n",
              "      <td>2016-01-01 21:11:00</td>\n",
              "      <td>2016-01-01 21:17:00</td>\n",
              "      <td>1</td>\n",
              "      <td>21</td>\n",
              "      <td>1</td>\n",
              "      <td>4</td>\n",
              "    </tr>\n",
              "    <tr>\n",
              "      <th>1</th>\n",
              "      <td>2</td>\n",
              "      <td>01-02-2016 01:25</td>\n",
              "      <td>01-02-2016 01:37</td>\n",
              "      <td>Business</td>\n",
              "      <td>Fort Pierce</td>\n",
              "      <td>Fort Pierce</td>\n",
              "      <td>NaN</td>\n",
              "      <td>5.0</td>\n",
              "      <td>2016-01-02 01:25:00</td>\n",
              "      <td>2016-01-02 01:37:00</td>\n",
              "      <td>2</td>\n",
              "      <td>1</td>\n",
              "      <td>1</td>\n",
              "      <td>5</td>\n",
              "    </tr>\n",
              "    <tr>\n",
              "      <th>2</th>\n",
              "      <td>3</td>\n",
              "      <td>01-02-2016 20:25</td>\n",
              "      <td>01-02-2016 20:38</td>\n",
              "      <td>Business</td>\n",
              "      <td>Fort Pierce</td>\n",
              "      <td>Fort Pierce</td>\n",
              "      <td>Errand/Supplies</td>\n",
              "      <td>4.8</td>\n",
              "      <td>2016-01-02 20:25:00</td>\n",
              "      <td>2016-01-02 20:38:00</td>\n",
              "      <td>2</td>\n",
              "      <td>20</td>\n",
              "      <td>1</td>\n",
              "      <td>5</td>\n",
              "    </tr>\n",
              "    <tr>\n",
              "      <th>3</th>\n",
              "      <td>4</td>\n",
              "      <td>01-05-2016 17:31</td>\n",
              "      <td>01-05-2016 17:45</td>\n",
              "      <td>Business</td>\n",
              "      <td>Fort Pierce</td>\n",
              "      <td>Fort Pierce</td>\n",
              "      <td>Meeting</td>\n",
              "      <td>4.7</td>\n",
              "      <td>2016-01-05 17:31:00</td>\n",
              "      <td>2016-01-05 17:45:00</td>\n",
              "      <td>5</td>\n",
              "      <td>17</td>\n",
              "      <td>1</td>\n",
              "      <td>1</td>\n",
              "    </tr>\n",
              "    <tr>\n",
              "      <th>4</th>\n",
              "      <td>5</td>\n",
              "      <td>01-06-2016 14:42</td>\n",
              "      <td>01-06-2016 15:49</td>\n",
              "      <td>Business</td>\n",
              "      <td>Fort Pierce</td>\n",
              "      <td>West Palm Beach</td>\n",
              "      <td>Customer Visit</td>\n",
              "      <td>63.7</td>\n",
              "      <td>2016-01-06 14:42:00</td>\n",
              "      <td>2016-01-06 15:49:00</td>\n",
              "      <td>6</td>\n",
              "      <td>14</td>\n",
              "      <td>1</td>\n",
              "      <td>2</td>\n",
              "    </tr>\n",
              "  </tbody>\n",
              "</table>\n",
              "</div>"
            ],
            "text/plain": [
              "   Trip_Id        START_DATE  ... start_month d_of_wk\n",
              "0        1  01-01-2016 21:11  ...           1       4\n",
              "1        2  01-02-2016 01:25  ...           1       5\n",
              "2        3  01-02-2016 20:25  ...           1       5\n",
              "3        4  01-05-2016 17:31  ...           1       1\n",
              "4        5  01-06-2016 14:42  ...           1       2\n",
              "\n",
              "[5 rows x 14 columns]"
            ]
          },
          "metadata": {},
          "execution_count": 76
        }
      ]
    },
    {
      "cell_type": "code",
      "metadata": {
        "id": "ZPsOvrKm73wL"
      },
      "source": [
        "df_join['weekday'] = df_join['start_dt'].apply(lambda x : datetime.strftime(x,'%a'))  # ( or directly convert into the short form)"
      ],
      "execution_count": 77,
      "outputs": []
    },
    {
      "cell_type": "code",
      "metadata": {
        "id": "gPowYL2DjqDq",
        "scrolled": true,
        "colab": {
          "base_uri": "https://localhost:8080/",
          "height": 399
        },
        "outputId": "2582e052-1ddb-492f-e759-b565148453d2"
      },
      "source": [
        "df_join.head()"
      ],
      "execution_count": 79,
      "outputs": [
        {
          "output_type": "execute_result",
          "data": {
            "text/html": [
              "<div>\n",
              "<style scoped>\n",
              "    .dataframe tbody tr th:only-of-type {\n",
              "        vertical-align: middle;\n",
              "    }\n",
              "\n",
              "    .dataframe tbody tr th {\n",
              "        vertical-align: top;\n",
              "    }\n",
              "\n",
              "    .dataframe thead th {\n",
              "        text-align: right;\n",
              "    }\n",
              "</style>\n",
              "<table border=\"1\" class=\"dataframe\">\n",
              "  <thead>\n",
              "    <tr style=\"text-align: right;\">\n",
              "      <th></th>\n",
              "      <th>Trip_Id</th>\n",
              "      <th>START_DATE</th>\n",
              "      <th>END_DATE</th>\n",
              "      <th>CATEGORY</th>\n",
              "      <th>START</th>\n",
              "      <th>STOP</th>\n",
              "      <th>PURPOSE</th>\n",
              "      <th>MILES</th>\n",
              "      <th>start_dt</th>\n",
              "      <th>end_dt</th>\n",
              "      <th>start_day</th>\n",
              "      <th>start_hour</th>\n",
              "      <th>start_month</th>\n",
              "      <th>d_of_wk</th>\n",
              "      <th>weekday</th>\n",
              "    </tr>\n",
              "  </thead>\n",
              "  <tbody>\n",
              "    <tr>\n",
              "      <th>0</th>\n",
              "      <td>1</td>\n",
              "      <td>01-01-2016 21:11</td>\n",
              "      <td>01-01-2016 21:17</td>\n",
              "      <td>Business</td>\n",
              "      <td>Fort Pierce</td>\n",
              "      <td>Fort Pierce</td>\n",
              "      <td>Meal/Entertain</td>\n",
              "      <td>5.1</td>\n",
              "      <td>2016-01-01 21:11:00</td>\n",
              "      <td>2016-01-01 21:17:00</td>\n",
              "      <td>1</td>\n",
              "      <td>21</td>\n",
              "      <td>1</td>\n",
              "      <td>4</td>\n",
              "      <td>Fri</td>\n",
              "    </tr>\n",
              "    <tr>\n",
              "      <th>1</th>\n",
              "      <td>2</td>\n",
              "      <td>01-02-2016 01:25</td>\n",
              "      <td>01-02-2016 01:37</td>\n",
              "      <td>Business</td>\n",
              "      <td>Fort Pierce</td>\n",
              "      <td>Fort Pierce</td>\n",
              "      <td>NaN</td>\n",
              "      <td>5.0</td>\n",
              "      <td>2016-01-02 01:25:00</td>\n",
              "      <td>2016-01-02 01:37:00</td>\n",
              "      <td>2</td>\n",
              "      <td>1</td>\n",
              "      <td>1</td>\n",
              "      <td>5</td>\n",
              "      <td>Sat</td>\n",
              "    </tr>\n",
              "    <tr>\n",
              "      <th>2</th>\n",
              "      <td>3</td>\n",
              "      <td>01-02-2016 20:25</td>\n",
              "      <td>01-02-2016 20:38</td>\n",
              "      <td>Business</td>\n",
              "      <td>Fort Pierce</td>\n",
              "      <td>Fort Pierce</td>\n",
              "      <td>Errand/Supplies</td>\n",
              "      <td>4.8</td>\n",
              "      <td>2016-01-02 20:25:00</td>\n",
              "      <td>2016-01-02 20:38:00</td>\n",
              "      <td>2</td>\n",
              "      <td>20</td>\n",
              "      <td>1</td>\n",
              "      <td>5</td>\n",
              "      <td>Sat</td>\n",
              "    </tr>\n",
              "    <tr>\n",
              "      <th>3</th>\n",
              "      <td>4</td>\n",
              "      <td>01-05-2016 17:31</td>\n",
              "      <td>01-05-2016 17:45</td>\n",
              "      <td>Business</td>\n",
              "      <td>Fort Pierce</td>\n",
              "      <td>Fort Pierce</td>\n",
              "      <td>Meeting</td>\n",
              "      <td>4.7</td>\n",
              "      <td>2016-01-05 17:31:00</td>\n",
              "      <td>2016-01-05 17:45:00</td>\n",
              "      <td>5</td>\n",
              "      <td>17</td>\n",
              "      <td>1</td>\n",
              "      <td>1</td>\n",
              "      <td>Tue</td>\n",
              "    </tr>\n",
              "    <tr>\n",
              "      <th>4</th>\n",
              "      <td>5</td>\n",
              "      <td>01-06-2016 14:42</td>\n",
              "      <td>01-06-2016 15:49</td>\n",
              "      <td>Business</td>\n",
              "      <td>Fort Pierce</td>\n",
              "      <td>West Palm Beach</td>\n",
              "      <td>Customer Visit</td>\n",
              "      <td>63.7</td>\n",
              "      <td>2016-01-06 14:42:00</td>\n",
              "      <td>2016-01-06 15:49:00</td>\n",
              "      <td>6</td>\n",
              "      <td>14</td>\n",
              "      <td>1</td>\n",
              "      <td>2</td>\n",
              "      <td>Wed</td>\n",
              "    </tr>\n",
              "  </tbody>\n",
              "</table>\n",
              "</div>"
            ],
            "text/plain": [
              "   Trip_Id        START_DATE          END_DATE  ... start_month d_of_wk weekday\n",
              "0        1  01-01-2016 21:11  01-01-2016 21:17  ...           1       4     Fri\n",
              "1        2  01-02-2016 01:25  01-02-2016 01:37  ...           1       5     Sat\n",
              "2        3  01-02-2016 20:25  01-02-2016 20:38  ...           1       5     Sat\n",
              "3        4  01-05-2016 17:31  01-05-2016 17:45  ...           1       1     Tue\n",
              "4        5  01-06-2016 14:42  01-06-2016 15:49  ...           1       2     Wed\n",
              "\n",
              "[5 rows x 15 columns]"
            ]
          },
          "metadata": {},
          "execution_count": 79
        }
      ]
    },
    {
      "cell_type": "code",
      "metadata": {
        "id": "L-Ehy-L873wM"
      },
      "source": [
        "df_join['cal_month'] =  df_join['start_dt'].apply(lambda x : datetime.strftime(x,'%b'))"
      ],
      "execution_count": 80,
      "outputs": []
    },
    {
      "cell_type": "code",
      "metadata": {
        "colab": {
          "base_uri": "https://localhost:8080/",
          "height": 399
        },
        "id": "iCotg9pf73wQ",
        "scrolled": true,
        "outputId": "bcf707ac-abeb-44c3-a706-2d4ca68bedcc"
      },
      "source": [
        "df_join.head()"
      ],
      "execution_count": 82,
      "outputs": [
        {
          "output_type": "execute_result",
          "data": {
            "text/html": [
              "<div>\n",
              "<style scoped>\n",
              "    .dataframe tbody tr th:only-of-type {\n",
              "        vertical-align: middle;\n",
              "    }\n",
              "\n",
              "    .dataframe tbody tr th {\n",
              "        vertical-align: top;\n",
              "    }\n",
              "\n",
              "    .dataframe thead th {\n",
              "        text-align: right;\n",
              "    }\n",
              "</style>\n",
              "<table border=\"1\" class=\"dataframe\">\n",
              "  <thead>\n",
              "    <tr style=\"text-align: right;\">\n",
              "      <th></th>\n",
              "      <th>Trip_Id</th>\n",
              "      <th>START_DATE</th>\n",
              "      <th>END_DATE</th>\n",
              "      <th>CATEGORY</th>\n",
              "      <th>START</th>\n",
              "      <th>STOP</th>\n",
              "      <th>PURPOSE</th>\n",
              "      <th>MILES</th>\n",
              "      <th>start_dt</th>\n",
              "      <th>end_dt</th>\n",
              "      <th>start_day</th>\n",
              "      <th>start_hour</th>\n",
              "      <th>start_month</th>\n",
              "      <th>d_of_wk</th>\n",
              "      <th>weekday</th>\n",
              "      <th>cal_month</th>\n",
              "    </tr>\n",
              "  </thead>\n",
              "  <tbody>\n",
              "    <tr>\n",
              "      <th>0</th>\n",
              "      <td>1</td>\n",
              "      <td>01-01-2016 21:11</td>\n",
              "      <td>01-01-2016 21:17</td>\n",
              "      <td>Business</td>\n",
              "      <td>Fort Pierce</td>\n",
              "      <td>Fort Pierce</td>\n",
              "      <td>Meal/Entertain</td>\n",
              "      <td>5.1</td>\n",
              "      <td>2016-01-01 21:11:00</td>\n",
              "      <td>2016-01-01 21:17:00</td>\n",
              "      <td>1</td>\n",
              "      <td>21</td>\n",
              "      <td>1</td>\n",
              "      <td>4</td>\n",
              "      <td>Fri</td>\n",
              "      <td>Jan</td>\n",
              "    </tr>\n",
              "    <tr>\n",
              "      <th>1</th>\n",
              "      <td>2</td>\n",
              "      <td>01-02-2016 01:25</td>\n",
              "      <td>01-02-2016 01:37</td>\n",
              "      <td>Business</td>\n",
              "      <td>Fort Pierce</td>\n",
              "      <td>Fort Pierce</td>\n",
              "      <td>NaN</td>\n",
              "      <td>5.0</td>\n",
              "      <td>2016-01-02 01:25:00</td>\n",
              "      <td>2016-01-02 01:37:00</td>\n",
              "      <td>2</td>\n",
              "      <td>1</td>\n",
              "      <td>1</td>\n",
              "      <td>5</td>\n",
              "      <td>Sat</td>\n",
              "      <td>Jan</td>\n",
              "    </tr>\n",
              "    <tr>\n",
              "      <th>2</th>\n",
              "      <td>3</td>\n",
              "      <td>01-02-2016 20:25</td>\n",
              "      <td>01-02-2016 20:38</td>\n",
              "      <td>Business</td>\n",
              "      <td>Fort Pierce</td>\n",
              "      <td>Fort Pierce</td>\n",
              "      <td>Errand/Supplies</td>\n",
              "      <td>4.8</td>\n",
              "      <td>2016-01-02 20:25:00</td>\n",
              "      <td>2016-01-02 20:38:00</td>\n",
              "      <td>2</td>\n",
              "      <td>20</td>\n",
              "      <td>1</td>\n",
              "      <td>5</td>\n",
              "      <td>Sat</td>\n",
              "      <td>Jan</td>\n",
              "    </tr>\n",
              "    <tr>\n",
              "      <th>3</th>\n",
              "      <td>4</td>\n",
              "      <td>01-05-2016 17:31</td>\n",
              "      <td>01-05-2016 17:45</td>\n",
              "      <td>Business</td>\n",
              "      <td>Fort Pierce</td>\n",
              "      <td>Fort Pierce</td>\n",
              "      <td>Meeting</td>\n",
              "      <td>4.7</td>\n",
              "      <td>2016-01-05 17:31:00</td>\n",
              "      <td>2016-01-05 17:45:00</td>\n",
              "      <td>5</td>\n",
              "      <td>17</td>\n",
              "      <td>1</td>\n",
              "      <td>1</td>\n",
              "      <td>Tue</td>\n",
              "      <td>Jan</td>\n",
              "    </tr>\n",
              "    <tr>\n",
              "      <th>4</th>\n",
              "      <td>5</td>\n",
              "      <td>01-06-2016 14:42</td>\n",
              "      <td>01-06-2016 15:49</td>\n",
              "      <td>Business</td>\n",
              "      <td>Fort Pierce</td>\n",
              "      <td>West Palm Beach</td>\n",
              "      <td>Customer Visit</td>\n",
              "      <td>63.7</td>\n",
              "      <td>2016-01-06 14:42:00</td>\n",
              "      <td>2016-01-06 15:49:00</td>\n",
              "      <td>6</td>\n",
              "      <td>14</td>\n",
              "      <td>1</td>\n",
              "      <td>2</td>\n",
              "      <td>Wed</td>\n",
              "      <td>Jan</td>\n",
              "    </tr>\n",
              "  </tbody>\n",
              "</table>\n",
              "</div>"
            ],
            "text/plain": [
              "   Trip_Id        START_DATE          END_DATE  ... d_of_wk weekday cal_month\n",
              "0        1  01-01-2016 21:11  01-01-2016 21:17  ...       4     Fri       Jan\n",
              "1        2  01-02-2016 01:25  01-02-2016 01:37  ...       5     Sat       Jan\n",
              "2        3  01-02-2016 20:25  01-02-2016 20:38  ...       5     Sat       Jan\n",
              "3        4  01-05-2016 17:31  01-05-2016 17:45  ...       1     Tue       Jan\n",
              "4        5  01-06-2016 14:42  01-06-2016 15:49  ...       2     Wed       Jan\n",
              "\n",
              "[5 rows x 16 columns]"
            ]
          },
          "metadata": {},
          "execution_count": 82
        }
      ]
    },
    {
      "cell_type": "markdown",
      "metadata": {
        "id": "A4oM-qwtjqDq"
      },
      "source": [
        "**Now let us answer the questions above.**\n",
        "<br>\n",
        "<br>\n",
        "**1. Busiest month in terms of number of drives and miles driven**"
      ]
    },
    {
      "cell_type": "code",
      "metadata": {
        "colab": {
          "base_uri": "https://localhost:8080/"
        },
        "id": "GRUKjqys73wW",
        "scrolled": false,
        "outputId": "d6f8cf9d-d4cf-480e-a719-b9c8f6f97f45"
      },
      "source": [
        "#groupby calender months and count the number of drives\n",
        "df_join.groupby('cal_month').count()['Trip_Id'].sort_values(ascending = False)           "
      ],
      "execution_count": 83,
      "outputs": [
        {
          "output_type": "execute_result",
          "data": {
            "text/plain": [
              "cal_month\n",
              "Dec    146\n",
              "Aug    133\n",
              "Nov    122\n",
              "Feb    115\n",
              "Mar    113\n",
              "Jul    112\n",
              "Jun    108\n",
              "Oct    106\n",
              "Jan     61\n",
              "Apr     54\n",
              "May     49\n",
              "Sep     36\n",
              "Name: Trip_Id, dtype: int64"
            ]
          },
          "metadata": {},
          "execution_count": 83
        }
      ]
    },
    {
      "cell_type": "markdown",
      "metadata": {
        "id": "zOto16I4jqDr"
      },
      "source": [
        "**December appears to be the busiest month in terms of number of drives**"
      ]
    },
    {
      "cell_type": "code",
      "metadata": {
        "id": "CFBd5lbWjqDr",
        "scrolled": true,
        "colab": {
          "base_uri": "https://localhost:8080/"
        },
        "outputId": "be875e7c-e6a8-410a-95b4-a546d95384d8"
      },
      "source": [
        "#groupby calender months and count the number of drives\n",
        "df_join.groupby('cal_month').sum()['MILES'].sort_values(ascending = False)           "
      ],
      "execution_count": 84,
      "outputs": [
        {
          "output_type": "execute_result",
          "data": {
            "text/plain": [
              "cal_month\n",
              "Oct    1810.0\n",
              "Mar    1693.9\n",
              "Aug    1335.5\n",
              "Jul    1224.6\n",
              "Apr    1113.0\n",
              "Dec     981.3\n",
              "Feb     908.2\n",
              "Jun     842.8\n",
              "Nov     816.9\n",
              "Sep     601.8\n",
              "Jan     512.9\n",
              "May     363.8\n",
              "Name: MILES, dtype: float64"
            ]
          },
          "metadata": {},
          "execution_count": 84
        }
      ]
    },
    {
      "cell_type": "markdown",
      "metadata": {
        "id": "_gZmt-fyjqDr"
      },
      "source": [
        "**October appears to be the busiest month in terms of miles driven**"
      ]
    },
    {
      "cell_type": "markdown",
      "metadata": {
        "id": "QtWFspbPjqDs"
      },
      "source": [
        "**2. Busiest day in terms of number of rides**"
      ]
    },
    {
      "cell_type": "code",
      "metadata": {
        "colab": {
          "base_uri": "https://localhost:8080/"
        },
        "id": "UHWuwGBw73wb",
        "outputId": "31f5d4d0-675b-4d5f-96cf-c9d2d4933e77"
      },
      "source": [
        "# Which day did the driver get most drives? \n",
        "\n",
        "df_join.groupby(['weekday']).size()  \n",
        "#note that .count() could also have been used. However, .size() makes it look more clean."
      ],
      "execution_count": 85,
      "outputs": [
        {
          "output_type": "execute_result",
          "data": {
            "text/plain": [
              "weekday\n",
              "Fri    206\n",
              "Mon    174\n",
              "Sat    150\n",
              "Sun    148\n",
              "Thu    154\n",
              "Tue    176\n",
              "Wed    147\n",
              "dtype: int64"
            ]
          },
          "metadata": {},
          "execution_count": 85
        }
      ]
    },
    {
      "cell_type": "markdown",
      "metadata": {
        "id": "myRVUvO073we"
      },
      "source": [
        "**3. Peak hours ?**"
      ]
    },
    {
      "cell_type": "code",
      "metadata": {
        "colab": {
          "base_uri": "https://localhost:8080/"
        },
        "id": "rkesjjDV73we",
        "outputId": "fa089bea-1bd2-4ab3-b93d-5c7ad4af3c70"
      },
      "source": [
        "df_join.groupby('start_hour').size()             # The number of trips started for each hour."
      ],
      "execution_count": 86,
      "outputs": [
        {
          "output_type": "execute_result",
          "data": {
            "text/plain": [
              "start_hour\n",
              "0     19\n",
              "1      5\n",
              "2      2\n",
              "3      3\n",
              "5      4\n",
              "6      4\n",
              "7     13\n",
              "8     35\n",
              "9     51\n",
              "10    65\n",
              "11    72\n",
              "12    77\n",
              "13    94\n",
              "14    89\n",
              "15    98\n",
              "16    88\n",
              "17    95\n",
              "18    94\n",
              "19    68\n",
              "20    71\n",
              "21    51\n",
              "22    31\n",
              "23    26\n",
              "dtype: int64"
            ]
          },
          "metadata": {},
          "execution_count": 86
        }
      ]
    },
    {
      "cell_type": "markdown",
      "metadata": {
        "id": "iY9t7tHK73wg"
      },
      "source": [
        "**Looks like the peak hours seem to be between 13PM - 6PM**"
      ]
    },
    {
      "cell_type": "markdown",
      "metadata": {
        "id": "FuAyy6-_jqDt"
      },
      "source": [
        "#### For practice - figure out the trips that are starting and ending at the same time (0 minutes elapsed).<br>\n",
        "The first step is in the cell below. Try to figure out the rest of the steps after this session. \n",
        "<br>"
      ]
    },
    {
      "cell_type": "code",
      "metadata": {
        "id": "w9f_7Toz73wp"
      },
      "source": [
        "df_join['diff'] = (df_join['end_dt'] - df_join['start_dt'])"
      ],
      "execution_count": 87,
      "outputs": []
    },
    {
      "cell_type": "markdown",
      "metadata": {
        "id": "KRW20r1S73wt"
      },
      "source": [
        "This creates a timedelta datatype"
      ]
    },
    {
      "cell_type": "markdown",
      "metadata": {
        "id": "WLH7zHmN73wv"
      },
      "source": [
        "Find the date time units in  https://docs.scipy.org/doc/numpy/reference/arrays.datetime.html\n",
        "\n",
        "search for 'Datetime Units'"
      ]
    },
    {
      "cell_type": "markdown",
      "metadata": {
        "id": "rw4cx0F873w6"
      },
      "source": [
        "#### For practice- Exploring existing features to create new ones - Speed \n",
        "- Open for all of you to explore and figure out what all can be understood and derived from this feature"
      ]
    },
    {
      "cell_type": "markdown",
      "metadata": {
        "id": "Ll5jdpAf73xA"
      },
      "source": [
        "## 4. Category & Purpose\n",
        "#### Explore the category and the purpose of the trips through\n",
        "- Most frequent trip category\n",
        "- Most frequent trip purpose\n",
        "- Miles driven per category and purpose\n",
        "- Percent composition of business miles vs personal miles\n",
        "- time spent per category and purpose"
      ]
    },
    {
      "cell_type": "markdown",
      "metadata": {
        "id": "kqJ8MwtDjqDu"
      },
      "source": [
        "**1. Most frequent trip category**"
      ]
    },
    {
      "cell_type": "code",
      "metadata": {
        "colab": {
          "base_uri": "https://localhost:8080/"
        },
        "id": "gquL3BUv73xA",
        "outputId": "c71990c1-e6a1-45de-fcbd-dc707a20a2c9"
      },
      "source": [
        "df_join['CATEGORY'].value_counts()"
      ],
      "execution_count": 88,
      "outputs": [
        {
          "output_type": "execute_result",
          "data": {
            "text/plain": [
              "Business    1078\n",
              "Personal      77\n",
              "Name: CATEGORY, dtype: int64"
            ]
          },
          "metadata": {},
          "execution_count": 88
        }
      ]
    },
    {
      "cell_type": "markdown",
      "metadata": {
        "id": "P1avZc0473xD"
      },
      "source": [
        "**Most trips are in the business category**"
      ]
    },
    {
      "cell_type": "markdown",
      "metadata": {
        "id": "VHQYJYB5jqDu"
      },
      "source": [
        "**2. Most frequent Purpose**"
      ]
    },
    {
      "cell_type": "code",
      "metadata": {
        "colab": {
          "base_uri": "https://localhost:8080/"
        },
        "id": "1i1t_EpJ73xD",
        "outputId": "e45e3a05-6645-4f19-80d2-d58776a6468f"
      },
      "source": [
        "#Purpose\n",
        "df_join['PURPOSE'].value_counts()"
      ],
      "execution_count": 89,
      "outputs": [
        {
          "output_type": "execute_result",
          "data": {
            "text/plain": [
              "Meeting            187\n",
              "Meal/Entertain     160\n",
              "Errand/Supplies    128\n",
              "Customer Visit     101\n",
              "Temporary Site      50\n",
              "Between Offices     18\n",
              "Moving               4\n",
              "Airport/Travel       3\n",
              "Commute              1\n",
              "Charity ($)          1\n",
              "Name: PURPOSE, dtype: int64"
            ]
          },
          "metadata": {},
          "execution_count": 89
        }
      ]
    },
    {
      "cell_type": "markdown",
      "metadata": {
        "id": "I4ninmDJ73xG"
      },
      "source": [
        "**Most trips are for meetings**"
      ]
    },
    {
      "cell_type": "code",
      "metadata": {
        "colab": {
          "base_uri": "https://localhost:8080/"
        },
        "id": "g8PeGQyn73xH",
        "outputId": "d08d20fb-f728-4751-efad-0e75ebe9cf03"
      },
      "source": [
        "#Average distance traveled for each activity\n",
        "df_join.groupby('PURPOSE').mean()['MILES'].sort_values(ascending = False)"
      ],
      "execution_count": 90,
      "outputs": [
        {
          "output_type": "execute_result",
          "data": {
            "text/plain": [
              "PURPOSE\n",
              "Commute            180.200000\n",
              "Customer Visit      20.688119\n",
              "Meeting             15.247594\n",
              "Charity ($)         15.100000\n",
              "Between Offices     10.944444\n",
              "Temporary Site      10.474000\n",
              "Meal/Entertain       5.698125\n",
              "Airport/Travel       5.500000\n",
              "Moving               4.550000\n",
              "Errand/Supplies      3.968750\n",
              "Name: MILES, dtype: float64"
            ]
          },
          "metadata": {},
          "execution_count": 90
        }
      ]
    },
    {
      "cell_type": "markdown",
      "metadata": {
        "id": "Or6uXGAv73xI"
      },
      "source": [
        "**Now lets try to answer some questions from this data.**\n",
        "\n",
        "**Question3**: How many miles were driven per category and purpose ?\n",
        "\n",
        "**Question4**: What is percentage of business miles vs personal?\n",
        "\n",
        "**Question5**: How much time was spend for drives per category and purpose?  - <i>for practice: you will need to create a time difference variable - answers will be shared through a notebook</i>\n"
      ]
    },
    {
      "cell_type": "code",
      "metadata": {
        "colab": {
          "base_uri": "https://localhost:8080/",
          "height": 221
        },
        "id": "rLz2LvBk73xJ",
        "outputId": "a79af4c4-f50a-4768-8978-34426fe41a2a"
      },
      "source": [
        "#Question3: How many miles were driven per category and purpose ?\n",
        "df_join.groupby('PURPOSE').sum()['MILES'].sort_values(ascending = False)"
      ],
      "execution_count": null,
      "outputs": [
        {
          "data": {
            "text/plain": [
              "PURPOSE\n",
              "Meeting            2851.3\n",
              "Customer Visit     2089.5\n",
              "Meal/Entertain      911.7\n",
              "Temporary Site      523.7\n",
              "Errand/Supplies     508.0\n",
              "Between Offices     197.0\n",
              "Commute             180.2\n",
              "Moving               18.2\n",
              "Airport/Travel       16.5\n",
              "Charity ($)          15.1\n",
              "Name: MILES, dtype: float64"
            ]
          },
          "execution_count": 141,
          "metadata": {
            "tags": []
          },
          "output_type": "execute_result"
        }
      ]
    },
    {
      "cell_type": "code",
      "metadata": {
        "colab": {
          "base_uri": "https://localhost:8080/",
          "height": 85
        },
        "id": "XpIICZl773xK",
        "outputId": "fa82427b-a87a-45ea-9a25-45a054d6f105"
      },
      "source": [
        "#Question3: How many miles were driven per category and purpose ?\n",
        "df_join.groupby('CATEGORY').sum()['MILES'].sort_values(ascending = False)"
      ],
      "execution_count": null,
      "outputs": [
        {
          "data": {
            "text/plain": [
              "CATEGORY\n",
              "Business    11487.0\n",
              "Personal      717.7\n",
              "Name: MILES, dtype: float64"
            ]
          },
          "execution_count": 142,
          "metadata": {
            "tags": []
          },
          "output_type": "execute_result"
        }
      ]
    },
    {
      "cell_type": "code",
      "metadata": {
        "colab": {
          "base_uri": "https://localhost:8080/",
          "height": 142
        },
        "id": "b_snpubb73xM",
        "scrolled": true,
        "outputId": "bd25cf6e-b90a-453b-cbe6-9dfa871132a5"
      },
      "source": [
        "#Question4: What is percentage of business miles vs personal?\n",
        "df1 = df_join.groupby('CATEGORY').agg({'MILES':'sum'})\n",
        "df1\n",
        "df1.apply(lambda x: x/x.sum()*100).rename(columns = {'MILES':'% of Miles'})"
      ],
      "execution_count": null,
      "outputs": [
        {
          "data": {
            "text/html": [
              "<div>\n",
              "<style scoped>\n",
              "    .dataframe tbody tr th:only-of-type {\n",
              "        vertical-align: middle;\n",
              "    }\n",
              "\n",
              "    .dataframe tbody tr th {\n",
              "        vertical-align: top;\n",
              "    }\n",
              "\n",
              "    .dataframe thead th {\n",
              "        text-align: right;\n",
              "    }\n",
              "</style>\n",
              "<table border=\"1\" class=\"dataframe\">\n",
              "  <thead>\n",
              "    <tr style=\"text-align: right;\">\n",
              "      <th></th>\n",
              "      <th>% of Miles</th>\n",
              "    </tr>\n",
              "    <tr>\n",
              "      <th>CATEGORY</th>\n",
              "      <th></th>\n",
              "    </tr>\n",
              "  </thead>\n",
              "  <tbody>\n",
              "    <tr>\n",
              "      <th>Business</th>\n",
              "      <td>94.119479</td>\n",
              "    </tr>\n",
              "    <tr>\n",
              "      <th>Personal</th>\n",
              "      <td>5.880521</td>\n",
              "    </tr>\n",
              "  </tbody>\n",
              "</table>\n",
              "</div>"
            ],
            "text/plain": [
              "          % of Miles\n",
              "CATEGORY            \n",
              "Business   94.119479\n",
              "Personal    5.880521"
            ]
          },
          "execution_count": 143,
          "metadata": {
            "tags": []
          },
          "output_type": "execute_result"
        }
      ]
    },
    {
      "cell_type": "markdown",
      "metadata": {
        "id": "RolqOhtUjqDw"
      },
      "source": [
        "## Profile Report - \n",
        "Through the exercise, we discussed the various aspects the driver profile for the uberdriver data given. The insights received were-\n",
        "\n",
        "**Name and number of all the unique start and stop points**<br>\n",
        "We found the unique start and stop points for the driver. We figured out the localities the driver is active in.\n",
        "\n",
        "**Popular start and stop point**<br>\n",
        "Cary has been the most popular start and stop point\n",
        "\n",
        "**Rides with same start and stop points**<br>\n",
        "288 such rides were found\n",
        "\n",
        "**Starting point from which most miles have been driven**<br>\n",
        "Unknown location followed by Cary\n",
        "\n",
        "**Start- stop pairs that are most travelled in terms of distance**<br>\n",
        "Morissville - Cary\n",
        "\n",
        "**busiest month in terms of number of drives and miles driven**<br>\n",
        "In terms of no of drives - December\n",
        "In terms of miles driven - October\n",
        "\n",
        "**busiest day of the week**<br>\n",
        "Friday\n",
        "\n",
        "**peak hours**<br>\n",
        "1PM - 6PM\n",
        "\n",
        "**most frequent trip category**<br>\n",
        "Business\n",
        "\n",
        "**most frequent trip purpose**<br>\n",
        "Meeting\n",
        "\n",
        "**miles driven per category and purpose**<br>\n",
        "We figured these numbers out. Category wise Business and purpose wise meetings were leading in terms of miles driven\n",
        "\n",
        "**percent composition of business miles vs personal miles**<br>\n",
        "Business - 94%\n",
        "Personal - 6%\n",
        "\n",
        "\n",
        "## Summary  -\n",
        "Through this exercise, we tried to check out the data analysis toolkit offered by pandas. We went to explore variables at hand, use groupby, implement datatime manipulation, explored possibility to create new features and various other operations on pandas dataframe.\n",
        "We also had a sneak peek into the upcoming week's topic of visualization.\n",
        "\n",
        "Learners are recommended to explore further on this building on the points discussed in the notebook.\n",
        "Happy Learning!"
      ]
    },
    {
      "cell_type": "code",
      "metadata": {
        "id": "fiq-EvubjqDw"
      },
      "source": [
        ""
      ],
      "execution_count": null,
      "outputs": []
    }
  ]
}