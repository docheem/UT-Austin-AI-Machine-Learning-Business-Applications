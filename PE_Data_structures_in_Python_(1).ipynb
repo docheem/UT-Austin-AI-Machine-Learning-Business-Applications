{
  "nbformat": 4,
  "nbformat_minor": 0,
  "metadata": {
    "kernelspec": {
      "display_name": "Python 3",
      "language": "python",
      "name": "python3"
    },
    "language_info": {
      "codemirror_mode": {
        "name": "ipython",
        "version": 3
      },
      "file_extension": ".py",
      "mimetype": "text/x-python",
      "name": "python",
      "nbconvert_exporter": "python",
      "pygments_lexer": "ipython3",
      "version": "3.7.3"
    },
    "colab": {
      "name": "PE_Data_structures_in_Python (1).ipynb",
      "provenance": []
    }
  },
  "cells": [
    {
      "cell_type": "markdown",
      "metadata": {
        "id": "F90Zls79PHfk"
      },
      "source": [
        "## Lists, Dictionaries and Sets in Python"
      ]
    },
    {
      "cell_type": "markdown",
      "metadata": {
        "id": "AjeYynkMPHfn"
      },
      "source": [
        "## Part 1\n",
        "\n",
        "### Lists in Python\n",
        "\n",
        "Sequences in Python are data structures that hold objects in an ordered array. Now, we will work on Lists, the most common sequence data types in Python."
      ]
    },
    {
      "cell_type": "code",
      "metadata": {
        "id": "E7srawZyPHfp",
        "colab": {
          "base_uri": "https://localhost:8080/"
        },
        "outputId": "70ab82e8-8412-48f1-e86b-c77ab239ab93"
      },
      "source": [
        "#Example \n",
        "lf = ['learning', \"Python\", 'is fun?', True]\n",
        "print(lf)"
      ],
      "execution_count": 3,
      "outputs": [
        {
          "output_type": "stream",
          "name": "stdout",
          "text": [
            "['learning', 'Python', 'is fun?', True]\n"
          ]
        }
      ]
    },
    {
      "cell_type": "markdown",
      "metadata": {
        "id": "LV0Enqv2PHf0"
      },
      "source": [
        "List can also be created by using list() function. "
      ]
    },
    {
      "cell_type": "code",
      "metadata": {
        "id": "oXatTyFkPHf1",
        "colab": {
          "base_uri": "https://localhost:8080/"
        },
        "outputId": "0e3d7e28-2159-40dc-cbb0-ebf1080b1916"
      },
      "source": [
        "#Example\n",
        "l2 = list((\"learning\", \"for\", \"life\", True))\n",
        "print(l2)"
      ],
      "execution_count": 4,
      "outputs": [
        {
          "output_type": "stream",
          "name": "stdout",
          "text": [
            "['learning', 'for', 'life', True]\n"
          ]
        }
      ]
    },
    {
      "cell_type": "markdown",
      "metadata": {
        "id": "zNxzaM82PHf9"
      },
      "source": [
        "Adding to an existing list\n",
        "\n",
        "### Question 1\n",
        "\n",
        "Add 10 to list l3 given above.\n",
        "\n",
        "[ **Hint:** Use **append**]"
      ]
    },
    {
      "cell_type": "code",
      "metadata": {
        "id": "xoO5hZTPPHf-",
        "colab": {
          "base_uri": "https://localhost:8080/"
        },
        "outputId": "692ad17d-6715-4729-cdbe-1f74d2badf4a"
      },
      "source": [
        "lf.append(10)\n",
        "print(lf)"
      ],
      "execution_count": 5,
      "outputs": [
        {
          "output_type": "stream",
          "name": "stdout",
          "text": [
            "['learning', 'Python', 'is fun?', True, 10]\n"
          ]
        }
      ]
    },
    {
      "cell_type": "markdown",
      "metadata": {
        "id": "QmX-GvJMPHgE"
      },
      "source": [
        "Removing from an existing list\n",
        "\n",
        "### Question 2\n",
        "\n",
        "Remove 10 from l1.\n",
        "\n",
        "[ **Hint:** Use **remove**]"
      ]
    },
    {
      "cell_type": "code",
      "metadata": {
        "id": "IfxukUS1PHgF",
        "colab": {
          "base_uri": "https://localhost:8080/"
        },
        "outputId": "43a7ca2b-3944-41a3-e891-475117e8a0f6"
      },
      "source": [
        "lf.remove(10)\n",
        "print(lf)"
      ],
      "execution_count": 6,
      "outputs": [
        {
          "output_type": "stream",
          "name": "stdout",
          "text": [
            "['learning', 'Python', 'is fun?', True]\n"
          ]
        }
      ]
    },
    {
      "cell_type": "markdown",
      "metadata": {
        "id": "KFPQuFhaPHgL"
      },
      "source": [
        "Joining 2 lists\n",
        "\n",
        "### Question 3\n",
        "\n",
        "[ **Hint:** Use **+ or extend**]"
      ]
    },
    {
      "cell_type": "code",
      "metadata": {
        "id": "deQ203wVPHgM",
        "colab": {
          "base_uri": "https://localhost:8080/"
        },
        "outputId": "d8433bcb-9e43-42b7-f1d6-a1a0674820a3"
      },
      "source": [
        "list_join = lf + l2\n",
        "list_join"
      ],
      "execution_count": 7,
      "outputs": [
        {
          "output_type": "execute_result",
          "data": {
            "text/plain": [
              "['learning', 'Python', 'is fun?', True, 'learning', 'for', 'life', True]"
            ]
          },
          "metadata": {},
          "execution_count": 7
        }
      ]
    },
    {
      "cell_type": "markdown",
      "metadata": {
        "id": "mDn2wUM-PHgS"
      },
      "source": [
        "Number List\n",
        "\n",
        "### Question 4\n",
        "\n",
        "Find Range and Mean of l3.\n",
        "\n",
        "l3 = [2,4,6,8]\n",
        "\n",
        "[ **Hint: ** Use **len(),sum(), min(), max()** functions ]\n",
        " \n",
        "If you want to use standard functions like mean & range, you have to import them from numpy else you can calculate them the traditional way using formulas"
      ]
    },
    {
      "cell_type": "code",
      "metadata": {
        "id": "9KuRLl-HPHgS",
        "colab": {
          "base_uri": "https://localhost:8080/"
        },
        "outputId": "29a63a78-82f8-4977-bdb2-5706261e40dc"
      },
      "source": [
        "l3 = [2,4,6,8]\n",
        "sum(l3)"
      ],
      "execution_count": null,
      "outputs": [
        {
          "output_type": "execute_result",
          "data": {
            "text/plain": [
              "20"
            ]
          },
          "metadata": {},
          "execution_count": 76
        }
      ]
    },
    {
      "cell_type": "code",
      "metadata": {
        "colab": {
          "base_uri": "https://localhost:8080/"
        },
        "id": "sRPInNPSWRWf",
        "outputId": "ba499d10-bea1-4a5f-8fe8-2a002cee4d46"
      },
      "source": [
        "len(l3)"
      ],
      "execution_count": null,
      "outputs": [
        {
          "output_type": "execute_result",
          "data": {
            "text/plain": [
              "4"
            ]
          },
          "metadata": {},
          "execution_count": 77
        }
      ]
    },
    {
      "cell_type": "code",
      "metadata": {
        "colab": {
          "base_uri": "https://localhost:8080/"
        },
        "id": "MMDKcDozWVZc",
        "outputId": "ce9f1317-05fc-418f-e25f-faf019b26cc5"
      },
      "source": [
        "max(l3)"
      ],
      "execution_count": null,
      "outputs": [
        {
          "output_type": "execute_result",
          "data": {
            "text/plain": [
              "8"
            ]
          },
          "metadata": {},
          "execution_count": 78
        }
      ]
    },
    {
      "cell_type": "code",
      "metadata": {
        "colab": {
          "base_uri": "https://localhost:8080/"
        },
        "id": "R382q89NWZ1k",
        "outputId": "cce8c430-be52-42a1-89e8-f22593faf741"
      },
      "source": [
        "min(l3)"
      ],
      "execution_count": null,
      "outputs": [
        {
          "output_type": "execute_result",
          "data": {
            "text/plain": [
              "2"
            ]
          },
          "metadata": {},
          "execution_count": 79
        }
      ]
    },
    {
      "cell_type": "code",
      "metadata": {
        "colab": {
          "base_uri": "https://localhost:8080/"
        },
        "id": "z8Xsh9Y6X0kG",
        "outputId": "73b339a8-6767-4ba2-ff92-d1152b8a5cab"
      },
      "source": [
        "print('Range:', max(l3) - min(l3))"
      ],
      "execution_count": null,
      "outputs": [
        {
          "output_type": "stream",
          "name": "stdout",
          "text": [
            "Range: 6\n"
          ]
        }
      ]
    },
    {
      "cell_type": "markdown",
      "metadata": {
        "id": "ZONOajwjPHgW"
      },
      "source": [
        "Count the occurances of an element in a given list.\n",
        "\n",
        "### Question 5\n",
        "Append the given sequence of numbers to l3 (given above) 0,1,3,3,5,5,7,9. Count the occurences of 5 in l3.\n",
        "\n",
        "[ **Hint: ** Use ** + operator to add multiple elements in the array and count() function to print the occurences**]"
      ]
    },
    {
      "cell_type": "code",
      "metadata": {
        "id": "Viky4rPAPHgX",
        "colab": {
          "base_uri": "https://localhost:8080/"
        },
        "outputId": "41375351-d9bc-463d-840d-9afda26f4e2b"
      },
      "source": [
        "my_newlist = [0,1,3,3,5,5,7,9]\n",
        "my_append = l3 + my_newlist\n",
        "print('My new list is when I append the given sequence of numbers to l3:' , my_append)\n",
        "print('The occurence of the number of 5 is:', my_append.count(5))  \n",
        "\n",
        "# or\n",
        "\n",
        "#(l3 + [0,1,3,3,5,5,7,9]).count(5)\n",
        "\n"
      ],
      "execution_count": null,
      "outputs": [
        {
          "output_type": "stream",
          "name": "stdout",
          "text": [
            "My new list is when I append the given sequence of numbers to l3: [2, 4, 6, 8, 0, 1, 3, 3, 5, 5, 7, 9]\n",
            "The occurence of the number of 5 is: 2\n"
          ]
        }
      ]
    },
    {
      "cell_type": "markdown",
      "metadata": {
        "id": "Z3DJT_gNPHga"
      },
      "source": [
        "Sorting and Reversing a list\n",
        "\n",
        "### Question 6\n",
        "sort and print l3 in ascending and descending order sequentially (given above)\n",
        "\n",
        "**(Hint: Use .sort() function)**"
      ]
    },
    {
      "cell_type": "code",
      "metadata": {
        "id": "3mQbnNW4PHgb",
        "colab": {
          "base_uri": "https://localhost:8080/"
        },
        "outputId": "8ae72c57-de8a-41c8-a0bb-db1e7c74f66a"
      },
      "source": [
        "l3.sort(reverse = False)\n",
        "l3"
      ],
      "execution_count": null,
      "outputs": [
        {
          "output_type": "execute_result",
          "data": {
            "text/plain": [
              "[2, 4, 6, 8]"
            ]
          },
          "metadata": {},
          "execution_count": 85
        }
      ]
    },
    {
      "cell_type": "markdown",
      "metadata": {
        "id": "Tns0zQb9PHgd"
      },
      "source": [
        "### Functions"
      ]
    },
    {
      "cell_type": "markdown",
      "metadata": {
        "id": "9mptJacOPHge"
      },
      "source": [
        "**Example:**\n",
        "\n",
        "**def** function_name(args)**:**\n",
        "    \n",
        "    function code goes here"
      ]
    },
    {
      "cell_type": "markdown",
      "metadata": {
        "id": "0Lcptuq2PHge"
      },
      "source": [
        "### Question 7\n",
        "\n",
        "Define a function with name **sum_3** which can take 3 numbers as input, and returns sum of them."
      ]
    },
    {
      "cell_type": "code",
      "metadata": {
        "colab": {
          "base_uri": "https://localhost:8080/"
        },
        "id": "Cp_k2AqA1kan",
        "outputId": "2e85f151-b4d7-487b-ff88-4a1a1bab8d4e"
      },
      "source": [
        "def my_function(c,a,b):\n",
        "  your_func = c + a +b\n",
        "  return your_func\n",
        "\n",
        "\n",
        "my_function (10, 65,5)"
      ],
      "execution_count": 17,
      "outputs": [
        {
          "output_type": "execute_result",
          "data": {
            "text/plain": [
              "80"
            ]
          },
          "metadata": {},
          "execution_count": 17
        }
      ]
    },
    {
      "cell_type": "code",
      "metadata": {
        "id": "CGxO9OILPHge"
      },
      "source": [
        "def sum_3(a,b,c):\n",
        "  d = a+b+c\n",
        "  return d\n"
      ],
      "execution_count": 9,
      "outputs": []
    },
    {
      "cell_type": "code",
      "metadata": {
        "colab": {
          "base_uri": "https://localhost:8080/"
        },
        "id": "LSmNBdpjzWhr",
        "outputId": "c4108428-29a4-409c-837d-13b158df5150"
      },
      "source": [
        "sum_3(9,5,4)"
      ],
      "execution_count": 10,
      "outputs": [
        {
          "output_type": "execute_result",
          "data": {
            "text/plain": [
              "18"
            ]
          },
          "metadata": {},
          "execution_count": 10
        }
      ]
    },
    {
      "cell_type": "markdown",
      "metadata": {
        "id": "v41rUwB3PHgi"
      },
      "source": [
        "### Lambda Functions"
      ]
    },
    {
      "cell_type": "markdown",
      "metadata": {
        "id": "YIMwR8s0PHgj"
      },
      "source": [
        "Anonymous functions or no name functions, which can be considered when you use a function only once.\n",
        "\n",
        "**Example:**\n",
        "\n",
        "f = lambda x, y : x + y\n",
        "\n",
        "f(1,1)\n",
        "\n",
        "2\n"
      ]
    },
    {
      "cell_type": "markdown",
      "metadata": {
        "id": "HbTYuTeiPHgj"
      },
      "source": [
        "### Question 8\n",
        "\n",
        "Write the same above **sum_3** function using lambda."
      ]
    },
    {
      "cell_type": "code",
      "metadata": {
        "id": "K1UuUUa8PHgj",
        "colab": {
          "base_uri": "https://localhost:8080/"
        },
        "outputId": "59935619-9cac-466f-f34c-8647e8ccc4e9"
      },
      "source": [
        "my_lambda = lambda x,y,z: x + y +z\n",
        "my_lambda (9,5,4)\n"
      ],
      "execution_count": 13,
      "outputs": [
        {
          "output_type": "execute_result",
          "data": {
            "text/plain": [
              "18"
            ]
          },
          "metadata": {},
          "execution_count": 13
        }
      ]
    },
    {
      "cell_type": "code",
      "metadata": {
        "colab": {
          "base_uri": "https://localhost:8080/"
        },
        "id": "yIAQvFRL05ff",
        "outputId": "d394ea2c-552d-4971-cf25-57e06ac02cef"
      },
      "source": [
        "z = lambda a,b,c : a+b+c\n",
        "z (8,5,32)"
      ],
      "execution_count": 15,
      "outputs": [
        {
          "output_type": "execute_result",
          "data": {
            "text/plain": [
              "45"
            ]
          },
          "metadata": {},
          "execution_count": 15
        }
      ]
    },
    {
      "cell_type": "code",
      "metadata": {
        "colab": {
          "base_uri": "https://localhost:8080/"
        },
        "id": "UFFv1PCq1QKm",
        "outputId": "63e9f142-b487-497e-8f17-b824c2d200b7"
      },
      "source": [
        "dochee = lambda v,b,c: v*b/c\n",
        "dochee(9,5,5)"
      ],
      "execution_count": 16,
      "outputs": [
        {
          "output_type": "execute_result",
          "data": {
            "text/plain": [
              "9.0"
            ]
          },
          "metadata": {},
          "execution_count": 16
        }
      ]
    },
    {
      "cell_type": "markdown",
      "metadata": {
        "id": "Gfv9v0COwfBv"
      },
      "source": [
        "### List Comprehension:"
      ]
    },
    {
      "cell_type": "markdown",
      "metadata": {
        "id": "l83Cncd3wix7"
      },
      "source": [
        "List comprehensions provide a concise way to create lists. Common applications are to make new lists where each element is the result of some operations applied to each member of another sequence or iterable, or to create a subsequence of those elements that satisfy a certain condition.\n",
        "\n",
        "For example, assume we want to create a list of squares, like:"
      ]
    },
    {
      "cell_type": "code",
      "metadata": {
        "id": "VjioGtuHPHgl",
        "colab": {
          "base_uri": "https://localhost:8080/"
        },
        "outputId": "4106f291-8b03-433f-da98-491bb8cd4171"
      },
      "source": [
        "squares = [x**2 for x in range(10)]\n",
        "print(squares)"
      ],
      "execution_count": 19,
      "outputs": [
        {
          "output_type": "stream",
          "name": "stdout",
          "text": [
            "[0, 1, 4, 9, 16, 25, 36, 49, 64, 81]\n"
          ]
        }
      ]
    },
    {
      "cell_type": "markdown",
      "metadata": {
        "id": "gxMJCE0ZwvOr"
      },
      "source": [
        "### Question 9:\n",
        "Convert the elements (which are integers) of the above list \"squares\", to string type using list comprehension:"
      ]
    },
    {
      "cell_type": "code",
      "metadata": {
        "id": "hUU0o7rVwmTV"
      },
      "source": [
        "L = [1, 2, 3, 4, 5]                             # list of integers from 1 to 5\n",
        "\n",
        "# Converting integers to string                 # this style of handling lists is known as list comprehension\n",
        "L = [str(c) for c in L] \n"
      ],
      "execution_count": 21,
      "outputs": []
    },
    {
      "cell_type": "markdown",
      "metadata": {
        "id": "t2W1HdfFxC3a"
      },
      "source": [
        "### Question 10:\n",
        "Check the data-type of each element of the list using list comprehension: "
      ]
    },
    {
      "cell_type": "code",
      "metadata": {
        "id": "_vwN9oZoxQ3k",
        "colab": {
          "base_uri": "https://localhost:8080/"
        },
        "outputId": "94ea1a59-34a0-40fe-8c60-3f8c5e74e6bc"
      },
      "source": [
        "# List comprehension offers a versatile way to handle list manipulations tasks easily.\n",
        "\n",
        "[type(item) for item in L]  "
      ],
      "execution_count": 22,
      "outputs": [
        {
          "output_type": "execute_result",
          "data": {
            "text/plain": [
              "[str, str, str, str, str]"
            ]
          },
          "metadata": {},
          "execution_count": 22
        }
      ]
    },
    {
      "cell_type": "code",
      "metadata": {
        "colab": {
          "base_uri": "https://localhost:8080/"
        },
        "id": "qGYEvEuz3s-y",
        "outputId": "8f4a82ba-2de7-4d94-d735-df2a56013ee2"
      },
      "source": [
        "the_list = [0, 1, 4, 9, 16, 25, 36, 49, 64, 81]\n",
        "\n",
        "the_list = [str(x) for x in the_list]\n",
        "\n",
        "[type(item) for item in the_list] "
      ],
      "execution_count": 25,
      "outputs": [
        {
          "output_type": "execute_result",
          "data": {
            "text/plain": [
              "[str, str, str, str, str, str, str, str, str, str]"
            ]
          },
          "metadata": {},
          "execution_count": 25
        }
      ]
    }
  ]
}