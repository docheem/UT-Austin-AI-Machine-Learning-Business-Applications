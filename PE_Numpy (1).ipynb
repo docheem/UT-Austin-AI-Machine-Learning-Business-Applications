{
  "nbformat": 4,
  "nbformat_minor": 0,
  "metadata": {
    "colab": {
      "name": "PE_Numpy.ipynb",
      "provenance": [],
      "collapsed_sections": []
    },
    "kernelspec": {
      "display_name": "Python 3",
      "language": "python",
      "name": "python3"
    },
    "language_info": {
      "codemirror_mode": {
        "name": "ipython",
        "version": 3
      },
      "file_extension": ".py",
      "mimetype": "text/x-python",
      "name": "python",
      "nbconvert_exporter": "python",
      "pygments_lexer": "ipython3",
      "version": "3.7.4"
    }
  },
  "cells": [
    {
      "cell_type": "markdown",
      "metadata": {
        "id": "S3DPtcibigrM"
      },
      "source": [
        "# Numpy"
      ]
    },
    {
      "cell_type": "markdown",
      "metadata": {
        "id": "_MwIsKNvigrQ"
      },
      "source": [
        "We have seen python basic data structures in our last section. They are great but lack specialized features for data analysis. Like, adding rows, columns, operating on 2d matrices aren't readily available. So, we will use *numpy* for such functions.\n",
        "\n"
      ]
    },
    {
      "cell_type": "code",
      "metadata": {
        "id": "uUDCPfHUigrU"
      },
      "source": [
        "import numpy as np"
      ],
      "execution_count": 41,
      "outputs": []
    },
    {
      "cell_type": "markdown",
      "metadata": {
        "id": "n6N1tc8wigro"
      },
      "source": [
        "Numpy operates on *nd* arrays. These are similar to lists but contains homogenous elements but easier to store 2-d data."
      ]
    },
    {
      "cell_type": "code",
      "metadata": {
        "id": "UNOD1poTigrr",
        "colab": {
          "base_uri": "https://localhost:8080/"
        },
        "outputId": "a762324f-8259-4d06-e48a-f02a5ef111a4"
      },
      "source": [
        "l1 = [1,2,3,4]\n",
        "nd1 = np.array(l1)\n",
        "print(nd1)\n",
        "\n",
        "l2 = [5,6,7,8]\n",
        "nd2 = np.array([l1,l2])\n",
        "print(nd2)"
      ],
      "execution_count": 42,
      "outputs": [
        {
          "output_type": "stream",
          "name": "stdout",
          "text": [
            "[1 2 3 4]\n",
            "[[1 2 3 4]\n",
            " [5 6 7 8]]\n"
          ]
        }
      ]
    },
    {
      "cell_type": "markdown",
      "metadata": {
        "id": "qMeH19I8igsE"
      },
      "source": [
        "Sum functions on np.array()"
      ]
    },
    {
      "cell_type": "code",
      "metadata": {
        "id": "8GQe4RmnigsG",
        "colab": {
          "base_uri": "https://localhost:8080/"
        },
        "outputId": "8b4aa5ec-ebb9-4a8e-ec22-6ed9e05fe633"
      },
      "source": [
        "print(nd2.shape)\n",
        "\n",
        "print(nd2.size)\n",
        "\n",
        "print(nd2.dtype)"
      ],
      "execution_count": 43,
      "outputs": [
        {
          "output_type": "stream",
          "name": "stdout",
          "text": [
            "(2, 4)\n",
            "8\n",
            "int64\n"
          ]
        }
      ]
    },
    {
      "cell_type": "markdown",
      "metadata": {
        "id": "m_PyE_WLigsU"
      },
      "source": [
        "### Question 1\n",
        "\n",
        "Create an identity 2d-array or matrix (with ones across the diagonal).\n",
        "\n",
        "[ **Hint:** You can also use **np.identity()** function ]"
      ]
    },
    {
      "cell_type": "code",
      "metadata": {
        "id": "hpZdKOoZigsW",
        "colab": {
          "base_uri": "https://localhost:8080/"
        },
        "outputId": "6fc98898-976a-4bca-af01-f012cbe26ca2"
      },
      "source": [
        "np.identity(2)"
      ],
      "execution_count": 44,
      "outputs": [
        {
          "output_type": "execute_result",
          "data": {
            "text/plain": [
              "array([[1., 0.],\n",
              "       [0., 1.]])"
            ]
          },
          "metadata": {},
          "execution_count": 44
        }
      ]
    },
    {
      "cell_type": "markdown",
      "metadata": {
        "id": "_U68HZ2Jigsk"
      },
      "source": [
        "### Question 2\n",
        "\n",
        "Create a 2d-array or matrix of order 3x3 with values = 9,8,7,6,5,4,3,2,1 arranged in the same order.\n",
        "\n",
        "Use: **np.array()** function\n",
        "\n"
      ]
    },
    {
      "cell_type": "code",
      "metadata": {
        "colab": {
          "base_uri": "https://localhost:8080/"
        },
        "id": "GXkWO8zcI9nr",
        "outputId": "b652f90e-252b-4021-cc23-0fd87729a257"
      },
      "source": [
        "so_list = [[9,8,7],[6,5,4],[3,2,1]]\n",
        "my_j = np.array(so_list)\n",
        "print(my_j)\n"
      ],
      "execution_count": 73,
      "outputs": [
        {
          "output_type": "stream",
          "name": "stdout",
          "text": [
            "[[9 8 7]\n",
            " [6 5 4]\n",
            " [3 2 1]]\n"
          ]
        }
      ]
    },
    {
      "cell_type": "code",
      "metadata": {
        "id": "7pUhfcJVigsm",
        "colab": {
          "base_uri": "https://localhost:8080/"
        },
        "outputId": "1d07abdc-bcf6-41df-a591-a5aa0b07b5a5"
      },
      "source": [
        "my_array = np.array([[9,8,7],[6,5,4],[3,2,1]])\n",
        "my_array"
      ],
      "execution_count": 45,
      "outputs": [
        {
          "output_type": "execute_result",
          "data": {
            "text/plain": [
              "array([[9, 8, 7],\n",
              "       [6, 5, 4],\n",
              "       [3, 2, 1]])"
            ]
          },
          "metadata": {},
          "execution_count": 45
        }
      ]
    },
    {
      "cell_type": "code",
      "metadata": {
        "colab": {
          "base_uri": "https://localhost:8080/"
        },
        "id": "LPua87wtyoYr",
        "outputId": "7fe65d40-7305-4bb8-eae8-0e541884dae1"
      },
      "source": [
        "the_array = np.array([[6,8,9], [5,8,3],[4,5,2]])\n",
        "print(the_array)"
      ],
      "execution_count": 46,
      "outputs": [
        {
          "output_type": "stream",
          "name": "stdout",
          "text": [
            "[[6 8 9]\n",
            " [5 8 3]\n",
            " [4 5 2]]\n"
          ]
        }
      ]
    },
    {
      "cell_type": "markdown",
      "metadata": {
        "id": "iOS7gu5yigsz"
      },
      "source": [
        "### Question 3\n",
        "\n",
        "Interchange both the rows and columns of the given matrix.\n",
        "\n",
        "Hint: You can use the transpose **.T**)"
      ]
    },
    {
      "cell_type": "code",
      "metadata": {
        "id": "lPG8A--Jigs1",
        "colab": {
          "base_uri": "https://localhost:8080/"
        },
        "outputId": "7f6ca8a3-e4ae-46a8-909d-c9b551107375"
      },
      "source": [
        "my_array.T"
      ],
      "execution_count": 14,
      "outputs": [
        {
          "output_type": "execute_result",
          "data": {
            "text/plain": [
              "array([[9, 6, 3],\n",
              "       [8, 5, 2],\n",
              "       [7, 4, 1]])"
            ]
          },
          "metadata": {},
          "execution_count": 14
        }
      ]
    },
    {
      "cell_type": "code",
      "metadata": {
        "colab": {
          "base_uri": "https://localhost:8080/"
        },
        "id": "0_VpVk6CzAhQ",
        "outputId": "9a41e1e7-4ecd-483d-e1c5-66107398a12b"
      },
      "source": [
        "the_array.T"
      ],
      "execution_count": 18,
      "outputs": [
        {
          "output_type": "execute_result",
          "data": {
            "text/plain": [
              "array([[6, 5, 4],\n",
              "       [8, 8, 5],\n",
              "       [9, 3, 2]])"
            ]
          },
          "metadata": {},
          "execution_count": 18
        }
      ]
    },
    {
      "cell_type": "markdown",
      "metadata": {
        "id": "HI2sWjV0igtK"
      },
      "source": [
        "### Question 4\n",
        "Add + 1 to all the elements in the given matrix."
      ]
    },
    {
      "cell_type": "code",
      "metadata": {
        "id": "AHsNvx48igtM",
        "colab": {
          "base_uri": "https://localhost:8080/"
        },
        "outputId": "c9727e4a-0fe0-4cc7-e17e-0ca89caaa7c9"
      },
      "source": [
        "my_array.T + 1"
      ],
      "execution_count": 25,
      "outputs": [
        {
          "output_type": "execute_result",
          "data": {
            "text/plain": [
              "array([[10,  7,  4],\n",
              "       [ 9,  6,  3],\n",
              "       [ 8,  5,  2]])"
            ]
          },
          "metadata": {},
          "execution_count": 25
        }
      ]
    },
    {
      "cell_type": "code",
      "metadata": {
        "colab": {
          "base_uri": "https://localhost:8080/"
        },
        "id": "OtMpkJz_zl7G",
        "outputId": "d46234a5-05fb-4ee9-b7b6-6aa3cd6e60ad"
      },
      "source": [
        "the_array + 2"
      ],
      "execution_count": 24,
      "outputs": [
        {
          "output_type": "execute_result",
          "data": {
            "text/plain": [
              "array([[ 8, 10, 11],\n",
              "       [ 7, 10,  5],\n",
              "       [ 6,  7,  4]])"
            ]
          },
          "metadata": {},
          "execution_count": 24
        }
      ]
    },
    {
      "cell_type": "code",
      "metadata": {
        "colab": {
          "base_uri": "https://localhost:8080/"
        },
        "id": "txQhCquaz1zD",
        "outputId": "ed3d7241-70bb-4113-bb32-73cbd1b4c4b2"
      },
      "source": [
        "the_array.T + 2"
      ],
      "execution_count": 26,
      "outputs": [
        {
          "output_type": "execute_result",
          "data": {
            "text/plain": [
              "array([[ 8,  7,  6],\n",
              "       [10, 10,  7],\n",
              "       [11,  5,  4]])"
            ]
          },
          "metadata": {},
          "execution_count": 26
        }
      ]
    },
    {
      "cell_type": "markdown",
      "metadata": {
        "id": "jrP84LYJigtX"
      },
      "source": [
        "Similarly you can do operations like scalar  substraction, division, multiplication (operating on each element in the matrix)"
      ]
    },
    {
      "cell_type": "markdown",
      "metadata": {
        "id": "lVyA92wJigtZ"
      },
      "source": [
        "### Question 5\n",
        "\n",
        "Find the mean of all elements in the given matrix nd6.\n",
        "nd6 = [[  1   4   9 121 144 169]\n",
        " [ 16  25  36 196 225 256]\n",
        " [ 49  64  81 289 324 361]]\n",
        " \n",
        " Use: **.mean()** function\n"
      ]
    },
    {
      "cell_type": "code",
      "metadata": {
        "id": "oYTTq0d3igtb",
        "colab": {
          "base_uri": "https://localhost:8080/"
        },
        "outputId": "74f630c1-d1e4-4c2f-c25b-a29ab499a866"
      },
      "source": [
        "nd6 = [[1, 4, 9, 121, 144, 169], [16, 25, 36, 196, 225, 256], [49, 64, 81, 289, 324, 361]]\n",
        "my_ray = np.matrix(nd6)\n",
        "my_ray"
      ],
      "execution_count": 36,
      "outputs": [
        {
          "output_type": "execute_result",
          "data": {
            "text/plain": [
              "matrix([[  1,   4,   9, 121, 144, 169],\n",
              "        [ 16,  25,  36, 196, 225, 256],\n",
              "        [ 49,  64,  81, 289, 324, 361]])"
            ]
          },
          "metadata": {},
          "execution_count": 36
        }
      ]
    },
    {
      "cell_type": "code",
      "metadata": {
        "colab": {
          "base_uri": "https://localhost:8080/"
        },
        "id": "iAf27bDx08PI",
        "outputId": "6271cc71-7926-4b25-9ff6-95a351f72e41"
      },
      "source": [
        "my_ray.mean()"
      ],
      "execution_count": 35,
      "outputs": [
        {
          "output_type": "execute_result",
          "data": {
            "text/plain": [
              "131.66666666666666"
            ]
          },
          "metadata": {},
          "execution_count": 35
        }
      ]
    },
    {
      "cell_type": "markdown",
      "metadata": {
        "id": "2c0tKFpiigto"
      },
      "source": [
        "### Question 7\n",
        "\n",
        "Find the dot product of two given matrices.\n",
        "\n",
        "[**Hint:** Use **np.dot()**]"
      ]
    },
    {
      "cell_type": "code",
      "metadata": {
        "id": "fS_pamH6igtq",
        "colab": {
          "base_uri": "https://localhost:8080/"
        },
        "outputId": "0ba95aa9-52f1-45a9-a0cd-3585cb58bcc8"
      },
      "source": [
        "np.dot(my_array ,my_ray)"
      ],
      "execution_count": 47,
      "outputs": [
        {
          "output_type": "execute_result",
          "data": {
            "text/plain": [
              "matrix([[ 480,  684,  936, 4680, 5364, 6096],\n",
              "        [ 282,  405,  558, 2862, 3285, 3738],\n",
              "        [  84,  126,  180, 1044, 1206, 1380]])"
            ]
          },
          "metadata": {},
          "execution_count": 47
        }
      ]
    },
    {
      "cell_type": "markdown",
      "metadata": {
        "id": "tnSjSgzZ1gwo"
      },
      "source": [
        "### Array Slicing/Indexing:\n",
        "\n",
        "- Now we'll learn to access multiple elements or a range of elements from an array."
      ]
    },
    {
      "cell_type": "code",
      "metadata": {
        "id": "XoQrWiPO1wax",
        "colab": {
          "base_uri": "https://localhost:8080/"
        },
        "outputId": "16ef3915-6469-4525-ba9d-925ba7e555ab"
      },
      "source": [
        "x = np.arange(20)\n",
        "x"
      ],
      "execution_count": 48,
      "outputs": [
        {
          "output_type": "execute_result",
          "data": {
            "text/plain": [
              "array([ 0,  1,  2,  3,  4,  5,  6,  7,  8,  9, 10, 11, 12, 13, 14, 15, 16,\n",
              "       17, 18, 19])"
            ]
          },
          "metadata": {},
          "execution_count": 48
        }
      ]
    },
    {
      "cell_type": "markdown",
      "metadata": {
        "id": "WOCrg1li1TUw"
      },
      "source": [
        "### Question 8\n",
        "\n",
        "Print the array elements from start to 4th position\n"
      ]
    },
    {
      "cell_type": "code",
      "metadata": {
        "id": "LaZn6pBh19xE",
        "colab": {
          "base_uri": "https://localhost:8080/"
        },
        "outputId": "a18b1766-e5c4-4c47-9dc2-57d111816f22"
      },
      "source": [
        "x[:5] #to the 4th position\n"
      ],
      "execution_count": 53,
      "outputs": [
        {
          "output_type": "execute_result",
          "data": {
            "text/plain": [
              "array([0, 1, 2, 3, 4])"
            ]
          },
          "metadata": {},
          "execution_count": 53
        }
      ]
    },
    {
      "cell_type": "code",
      "metadata": {
        "colab": {
          "base_uri": "https://localhost:8080/"
        },
        "id": "z84pwjKvGd1M",
        "outputId": "730c0c96-45a0-4711-c96b-898b7b0e4f47"
      },
      "source": [
        "x[1:5] #from index 1 to the 4th postion"
      ],
      "execution_count": 54,
      "outputs": [
        {
          "output_type": "execute_result",
          "data": {
            "text/plain": [
              "array([1, 2, 3, 4])"
            ]
          },
          "metadata": {},
          "execution_count": 54
        }
      ]
    },
    {
      "cell_type": "code",
      "metadata": {
        "colab": {
          "base_uri": "https://localhost:8080/"
        },
        "id": "dnZDXkffGl4m",
        "outputId": "9263a988-e169-41d5-a9eb-9f2aa6e7c852"
      },
      "source": [
        "x[5:15] #from index 5 to the 14th postion"
      ],
      "execution_count": 55,
      "outputs": [
        {
          "output_type": "execute_result",
          "data": {
            "text/plain": [
              "array([ 5,  6,  7,  8,  9, 10, 11, 12, 13, 14])"
            ]
          },
          "metadata": {},
          "execution_count": 55
        }
      ]
    },
    {
      "cell_type": "code",
      "metadata": {
        "colab": {
          "base_uri": "https://localhost:8080/"
        },
        "id": "dogxHZVAGQzt",
        "outputId": "fe753d72-e1a8-4cdc-a5fe-251fc1f74174"
      },
      "source": [
        " x[:13] # to the 12th postion"
      ],
      "execution_count": 57,
      "outputs": [
        {
          "output_type": "execute_result",
          "data": {
            "text/plain": [
              "array([ 0,  1,  2,  3,  4,  5,  6,  7,  8,  9, 10, 11, 12])"
            ]
          },
          "metadata": {},
          "execution_count": 57
        }
      ]
    },
    {
      "cell_type": "markdown",
      "metadata": {
        "id": "JYjq5utR2KlC"
      },
      "source": [
        "### Question 9\n",
        "\n",
        "- Return elements from first position with step size 2. (Difference between consecutive elements is 2)"
      ]
    },
    {
      "cell_type": "code",
      "metadata": {
        "id": "QBJ0by7h2FKR",
        "colab": {
          "base_uri": "https://localhost:8080/"
        },
        "outputId": "13f4c8dc-86e4-44d4-ddb7-aba2dc6bcf5b"
      },
      "source": [
        "x[1::2]  # Returns the elements of array \n",
        "          #from 2nd element to further elements with step size of 2."
      ],
      "execution_count": 65,
      "outputs": [
        {
          "output_type": "execute_result",
          "data": {
            "text/plain": [
              "array([ 1,  3,  5,  7,  9, 11, 13, 15, 17, 19])"
            ]
          },
          "metadata": {},
          "execution_count": 65
        }
      ]
    },
    {
      "cell_type": "markdown",
      "metadata": {
        "id": "7j2b7MXO2mFC"
      },
      "source": [
        "### Question 10\n",
        "\n",
        "Reverse the array using array indexing:"
      ]
    },
    {
      "cell_type": "code",
      "metadata": {
        "id": "Gi5mpZIb2jNQ",
        "colab": {
          "base_uri": "https://localhost:8080/"
        },
        "outputId": "e2213593-6ab8-4077-debb-a91247c33268"
      },
      "source": [
        "x[::-1] "
      ],
      "execution_count": 71,
      "outputs": [
        {
          "output_type": "execute_result",
          "data": {
            "text/plain": [
              "array([19, 18, 17, 16, 15, 14, 13, 12, 11, 10,  9,  8,  7,  6,  5,  4,  3,\n",
              "        2,  1,  0])"
            ]
          },
          "metadata": {},
          "execution_count": 71
        }
      ]
    },
    {
      "cell_type": "code",
      "metadata": {
        "id": "2RFyYLbH37pT"
      },
      "source": [
        ""
      ],
      "execution_count": null,
      "outputs": []
    }
  ]
}